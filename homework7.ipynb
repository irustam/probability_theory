{
 "cells": [
  {
   "cell_type": "code",
   "execution_count": 1,
   "metadata": {},
   "outputs": [],
   "source": [
    "import numpy as np\n",
    "import pandas as pd\n",
    "from matplotlib import pyplot as plt\n",
    "from scipy import stats\n",
    "\n",
    "plt.style.use('seaborn-whitegrid')"
   ]
  },
  {
   "cell_type": "markdown",
   "metadata": {},
   "source": [
    "__Задача 1__\n",
    "\n",
    "Даны значения величины заработной платы заемщиков банка (`salary`) и значения их поведенческого кредитного скоринга (`scoring`):\n",
    "```\n",
    "salary = [35, 45, 190, 200, 40, 70, 54, 150, 120, 110]\n",
    "scoring = [401, 574, 874, 919, 459, 739, 653, 902, 746, 832]\n",
    "```\n",
    "Возьмём в качестве признака значение `salary`, а в качестве целевой переменной - `scoring`.\n",
    "\n",
    "1. Найдите коэффициенты линейной регрессии с помощью формул для парной регрессии, а затем с помощью метода наименьших квадратов.\n",
    "2. Постройте `scatter plot` по данным и отметьте на нём прямую линейной регрессии, полученную в п. 1.\n",
    "3. Посчитайте коэффициент детерминации, среднюю ошибку аппроксимации.\n",
    "4. Оцените построенное уравнение регрессии с помощью F-критерия Фишера.\n",
    "5. Постройте для коэффициентов регрессии доверительные интервалы с помощью t-статистики Стьюдента."
   ]
  },
  {
   "cell_type": "code",
   "execution_count": 2,
   "metadata": {},
   "outputs": [],
   "source": [
    "salary = np.array([35, 45, 190, 200, 40, 70, 54, 150, 120, 110])\n",
    "scoring = np.array([401, 574, 874, 919, 459, 739, 653, 902, 746, 832])"
   ]
  },
  {
   "cell_type": "markdown",
   "metadata": {},
   "source": [
    "#### Найдем коэффициенты линейной регрессии с помощью формул для парной регрессии:"
   ]
  },
  {
   "cell_type": "code",
   "execution_count": 3,
   "metadata": {},
   "outputs": [
    {
     "data": {
      "text/plain": [
       "(444.1773573243596, 2.620538882402765)"
      ]
     },
     "execution_count": 3,
     "metadata": {},
     "output_type": "execute_result"
    }
   ],
   "source": [
    "b1 = np.cov(salary, scoring, ddof=1)[0, 1] / np.var(salary, ddof=1)\n",
    "b0 = scoring.mean() - b1 * salary.mean()\n",
    "b0, b1"
   ]
  },
  {
   "cell_type": "markdown",
   "metadata": {},
   "source": [
    "#### Найдем коэффициенты линейной регрессии с помощью метода наименьших квадратов:"
   ]
  },
  {
   "cell_type": "code",
   "execution_count": 4,
   "metadata": {},
   "outputs": [
    {
     "data": {
      "text/plain": [
       "array([[401],\n",
       "       [574],\n",
       "       [874],\n",
       "       [919],\n",
       "       [459],\n",
       "       [739],\n",
       "       [653],\n",
       "       [902],\n",
       "       [746],\n",
       "       [832]])"
      ]
     },
     "execution_count": 4,
     "metadata": {},
     "output_type": "execute_result"
    }
   ],
   "source": [
    "x2 = salary.reshape(-1, 1)\n",
    "\n",
    "y2 = scoring.reshape(-1, 1)\n",
    "y2"
   ]
  },
  {
   "cell_type": "code",
   "execution_count": 5,
   "metadata": {},
   "outputs": [
    {
     "data": {
      "text/plain": [
       "array([[  1.,  35.],\n",
       "       [  1.,  45.],\n",
       "       [  1., 190.],\n",
       "       [  1., 200.],\n",
       "       [  1.,  40.],\n",
       "       [  1.,  70.],\n",
       "       [  1.,  54.],\n",
       "       [  1., 150.],\n",
       "       [  1., 120.],\n",
       "       [  1., 110.]])"
      ]
     },
     "execution_count": 5,
     "metadata": {},
     "output_type": "execute_result"
    }
   ],
   "source": [
    "ones = np.ones((x2.shape[0], 1))\n",
    "x2 = np.hstack((ones, x2))\n",
    "x2"
   ]
  },
  {
   "cell_type": "markdown",
   "metadata": {},
   "source": [
    "Посчитаем определитель:"
   ]
  },
  {
   "cell_type": "code",
   "execution_count": 6,
   "metadata": {},
   "outputs": [
    {
     "data": {
      "text/plain": [
       "349464.00000000023"
      ]
     },
     "execution_count": 6,
     "metadata": {},
     "output_type": "execute_result"
    }
   ],
   "source": [
    "XTX = x2.T.dot(x2)\n",
    "\n",
    "np.linalg.det(XTX)"
   ]
  },
  {
   "cell_type": "markdown",
   "metadata": {},
   "source": [
    "Определитель не близок к нулю, поэтому можно записать аналитическое решение:"
   ]
  },
  {
   "cell_type": "code",
   "execution_count": 7,
   "metadata": {},
   "outputs": [
    {
     "name": "stdout",
     "output_type": "stream",
     "text": [
      "[[444.17735732]\n",
      " [  2.62053888]]\n"
     ]
    }
   ],
   "source": [
    "XTX_inv = np.linalg.inv(XTX)\n",
    "\n",
    "b = XTX_inv.dot(x2.T).dot(y2)\n",
    "\n",
    "print(b)"
   ]
  },
  {
   "cell_type": "markdown",
   "metadata": {},
   "source": [
    "#### Оба метода дали почти одинаковые коэффициенты"
   ]
  },
  {
   "cell_type": "markdown",
   "metadata": {},
   "source": [
    "Проверим несмещённость уравнения регрессии при найденных коэффициентах по методу наименьших квадратов:"
   ]
  },
  {
   "cell_type": "code",
   "execution_count": 8,
   "metadata": {},
   "outputs": [
    {
     "data": {
      "text/plain": [
       "(709.8999999999999, 709.9)"
      ]
     },
     "execution_count": 8,
     "metadata": {},
     "output_type": "execute_result"
    }
   ],
   "source": [
    "x2.dot(b).mean(), y2.mean()"
   ]
  },
  {
   "cell_type": "markdown",
   "metadata": {},
   "source": [
    "Т.к. у нас несмещенное уравнение парной регрессии, то посчитаем __коэффициент детерминации__ по формуле:\n",
    "$$R^2 = r_{xy}^2$$"
   ]
  },
  {
   "cell_type": "code",
   "execution_count": 9,
   "metadata": {},
   "outputs": [
    {
     "data": {
      "text/plain": [
       "0.7876386635293682"
      ]
     },
     "execution_count": 9,
     "metadata": {},
     "output_type": "execute_result"
    }
   ],
   "source": [
    "r2 = np.corrcoef(salary, scoring) ** 2\n",
    "r2 = r2[0, 1]\n",
    "r2"
   ]
  },
  {
   "cell_type": "markdown",
   "metadata": {},
   "source": [
    "#### Построим графики регрессий"
   ]
  },
  {
   "cell_type": "code",
   "execution_count": 10,
   "metadata": {},
   "outputs": [
    {
     "data": {
      "image/png": "[encoded data removed]",
      "text/plain": [
       "<Figure size 720x288 with 2 Axes>"
      ]
     },
     "metadata": {
      "needs_background": "light"
     },
     "output_type": "display_data"
    }
   ],
   "source": [
    "fig, (ax1, ax2) = plt.subplots(ncols=2)\n",
    "fig.set_size_inches(10, 4)\n",
    "\n",
    "ax1.scatter(salary, scoring)\n",
    "ax1.plot(salary, b0 + b1 * salary, color='red', alpha=0.5)\n",
    "ax1.set_title(f'Линейная регрессия')\n",
    "\n",
    "ax2.scatter(salary, scoring)\n",
    "ax2.plot(salary, b[0] + b[1] * salary, color='red', alpha=0.5)\n",
    "ax2.set_title(f'KNN метод')\n",
    "\n",
    "plt.show()"
   ]
  },
  {
   "cell_type": "markdown",
   "metadata": {},
   "source": [
    "#### Посчитаем среднюю ошибку аппроксимации"
   ]
  },
  {
   "cell_type": "code",
   "execution_count": 11,
   "metadata": {},
   "outputs": [],
   "source": [
    "def mean_approximation_error(y_real: np.ndarray, y_pred: np.ndarray) -> float:\n",
    "    \"\"\"Средняя ошибка аппроксимации.\n",
    "    \"\"\"\n",
    "    \n",
    "    return np.abs((y_real - y_pred) / y_real).mean()"
   ]
  },
  {
   "cell_type": "code",
   "execution_count": 12,
   "metadata": {},
   "outputs": [],
   "source": [
    "z1 = b0 + b1 * salary\n",
    "z2 = x2.dot(b)"
   ]
  },
  {
   "cell_type": "code",
   "execution_count": 13,
   "metadata": {},
   "outputs": [
    {
     "data": {
      "text/plain": [
       "0.11469251843561709"
      ]
     },
     "execution_count": 13,
     "metadata": {},
     "output_type": "execute_result"
    }
   ],
   "source": [
    "mean_approximation_error(scoring, z1)"
   ]
  },
  {
   "cell_type": "code",
   "execution_count": 14,
   "metadata": {},
   "outputs": [
    {
     "data": {
      "text/plain": [
       "0.11469251843561712"
      ]
     },
     "execution_count": 14,
     "metadata": {},
     "output_type": "execute_result"
    }
   ],
   "source": [
    "mean_approximation_error(y2, z2)"
   ]
  },
  {
   "cell_type": "markdown",
   "metadata": {},
   "source": [
    "#### Оценим построенное уравнение регрессии с помощью F-критерия Фишера"
   ]
  },
  {
   "cell_type": "code",
   "execution_count": 15,
   "metadata": {},
   "outputs": [
    {
     "data": {
      "text/plain": [
       "29.671640859664432"
      ]
     },
     "execution_count": 15,
     "metadata": {},
     "output_type": "execute_result"
    }
   ],
   "source": [
    "n = salary.shape[0]\n",
    "k1 = 1\n",
    "k2 = n - k1 - 1\n",
    "\n",
    "f1 = (r2 / k1) / ((1 - r2) / k2)\n",
    "f1"
   ]
  },
  {
   "cell_type": "markdown",
   "metadata": {},
   "source": [
    "Для уровня значимости $\\alpha = 0.05$ посчитаем значение $F_{crit}$:"
   ]
  },
  {
   "cell_type": "code",
   "execution_count": 16,
   "metadata": {},
   "outputs": [
    {
     "data": {
      "text/plain": [
       "5.317655071578714"
      ]
     },
     "execution_count": 16,
     "metadata": {},
     "output_type": "execute_result"
    }
   ],
   "source": [
    "alpha = 0.05\n",
    "\n",
    "f_crit = stats.f.ppf(1 - alpha, k1, k2)\n",
    "f_crit"
   ]
  },
  {
   "cell_type": "markdown",
   "metadata": {},
   "source": [
    "Имеем $F > F_{crit}$, поэтому уравнение регрессии статистически значимо."
   ]
  },
  {
   "cell_type": "markdown",
   "metadata": {},
   "source": [
    "#### Построим для коэффициентов регрессии доверительные интервалы с помощью t-статистики Стьюдента"
   ]
  },
  {
   "cell_type": "code",
   "execution_count": 17,
   "metadata": {},
   "outputs": [],
   "source": [
    "def standard_error_slope(\n",
    "        x: np.ndarray,\n",
    "        y: np.ndarray,\n",
    "        z: np.ndarray,\n",
    ") -> float:\n",
    "    \"\"\"Стандартная ошибка коэффициента наклона.\n",
    "    \"\"\"\n",
    "    \n",
    "    n = x.shape[0]\n",
    "    \n",
    "    upper = ((y - z) ** 2).sum() / (n - 2)\n",
    "    lower = ((x - x.mean()) ** 2).sum()\n",
    "    \n",
    "    return np.sqrt(upper / lower)"
   ]
  },
  {
   "cell_type": "code",
   "execution_count": 18,
   "metadata": {},
   "outputs": [
    {
     "data": {
      "text/plain": [
       "0.48108279568516005"
      ]
     },
     "execution_count": 18,
     "metadata": {},
     "output_type": "execute_result"
    }
   ],
   "source": [
    "s_slope = standard_error_slope(salary, scoring, z1)\n",
    "s_slope"
   ]
  },
  {
   "cell_type": "markdown",
   "metadata": {},
   "source": [
    "Зададим уровень доверия $p = 0.95$, т.е. $\\alpha = 0.05$"
   ]
  },
  {
   "cell_type": "code",
   "execution_count": 19,
   "metadata": {},
   "outputs": [
    {
     "data": {
      "text/plain": [
       "2.2621571627409915"
      ]
     },
     "execution_count": 19,
     "metadata": {},
     "output_type": "execute_result"
    }
   ],
   "source": [
    "alpha = 0.05\n",
    "\n",
    "t = stats.t.ppf(1 - alpha / 2, df=n-1)\n",
    "t"
   ]
  },
  {
   "cell_type": "markdown",
   "metadata": {},
   "source": [
    "Доверительный интервал для параметра $b_1$:"
   ]
  },
  {
   "cell_type": "code",
   "execution_count": 20,
   "metadata": {},
   "outputs": [
    {
     "data": {
      "text/plain": [
       "(1.532253990272119, 3.7088237745334105)"
      ]
     },
     "execution_count": 20,
     "metadata": {},
     "output_type": "execute_result"
    }
   ],
   "source": [
    "(b1 - t * s_slope, b1 + t * s_slope)"
   ]
  },
  {
   "cell_type": "markdown",
   "metadata": {},
   "source": [
    "Аналогично для параметра $b_0$:"
   ]
  },
  {
   "cell_type": "code",
   "execution_count": 21,
   "metadata": {},
   "outputs": [],
   "source": [
    "def standard_error_intercept(\n",
    "        x: np.ndarray,\n",
    "        y: np.ndarray,\n",
    "        z: np.ndarray,\n",
    ") -> float:\n",
    "    \"\"\"Стандартная ошибка коэффициента сдвига.\n",
    "    \"\"\"\n",
    "    \n",
    "    return standard_error_slope(x, y, z) * np.sqrt((x ** 2).mean())"
   ]
  },
  {
   "cell_type": "code",
   "execution_count": 22,
   "metadata": {},
   "outputs": [
    {
     "data": {
      "text/plain": [
       "56.46649755068153"
      ]
     },
     "execution_count": 22,
     "metadata": {},
     "output_type": "execute_result"
    }
   ],
   "source": [
    "s_intercept = standard_error_intercept(salary, scoring, z1)\n",
    "s_intercept"
   ]
  },
  {
   "cell_type": "markdown",
   "metadata": {},
   "source": [
    "Доверительный интервал для параметра $b_0$:"
   ]
  },
  {
   "cell_type": "code",
   "execution_count": 23,
   "metadata": {},
   "outputs": [
    {
     "data": {
      "text/plain": [
       "(316.4412654351887, 571.9134492135305)"
      ]
     },
     "execution_count": 23,
     "metadata": {},
     "output_type": "execute_result"
    }
   ],
   "source": [
    "(b0 - t * s_intercept, b0 + t * s_intercept)"
   ]
  },
  {
   "cell_type": "markdown",
   "metadata": {},
   "source": [
    "__Задача 2__\n",
    "\n",
    "Допустим, первые 5 клиентов из предыдущего задания проживают в Москве, а остальные - в Санкт-Петербурге. Влияет ли этот фактор на значение их кредитного скоринга?\n"
   ]
  },
  {
   "cell_type": "code",
   "execution_count": 29,
   "metadata": {},
   "outputs": [],
   "source": [
    "y1 = scoring[:5]\n",
    "y2 = scoring[5:]\n",
    "\n",
    "n1 = y1.shape[0]\n",
    "n2 = y2.shape[0]\n",
    "\n",
    "y1_mean = y1.mean()\n",
    "y2_mean = y2.mean()"
   ]
  },
  {
   "cell_type": "code",
   "execution_count": 31,
   "metadata": {},
   "outputs": [
    {
     "data": {
      "text/plain": [
       "(645.4, 774.4, 709.9)"
      ]
     },
     "execution_count": 31,
     "metadata": {},
     "output_type": "execute_result"
    }
   ],
   "source": [
    "y1_mean = y1.mean()\n",
    "y2_mean = y2.mean()\n",
    "y_mean = scoring.mean()\n",
    "\n",
    "y1_mean, y2_mean, y_mean"
   ]
  },
  {
   "cell_type": "code",
   "execution_count": 32,
   "metadata": {},
   "outputs": [
    {
     "data": {
      "text/plain": [
       "(41602.5, 263086.39999999997)"
      ]
     },
     "execution_count": 32,
     "metadata": {},
     "output_type": "execute_result"
    }
   ],
   "source": [
    "S2_b = n1 * (y1_mean - y_mean) ** 2 + n2 * (y2_mean - y_mean) ** 2\n",
    "\n",
    "S2_w = ((y1 - y1_mean) ** 2).sum() + ((y2 - y2_mean) ** 2).sum()\n",
    "\n",
    "S2_b, S2_w"
   ]
  },
  {
   "cell_type": "code",
   "execution_count": 33,
   "metadata": {},
   "outputs": [
    {
     "data": {
      "text/plain": [
       "(41602.5, 32885.799999999996)"
      ]
     },
     "execution_count": 33,
     "metadata": {},
     "output_type": "execute_result"
    }
   ],
   "source": [
    "k = 2\n",
    "\n",
    "k1 = k - 1\n",
    "k2 = n - k\n",
    "\n",
    "sigma2_b = S2_b / k1\n",
    "sigma2_w = S2_w / k2\n",
    "\n",
    "sigma2_b, sigma2_w"
   ]
  },
  {
   "cell_type": "markdown",
   "metadata": {},
   "source": [
    "Итак, значение статистики $F$:"
   ]
  },
  {
   "cell_type": "code",
   "execution_count": 34,
   "metadata": {},
   "outputs": [
    {
     "data": {
      "text/plain": [
       "1.2650596914169643"
      ]
     },
     "execution_count": 34,
     "metadata": {},
     "output_type": "execute_result"
    }
   ],
   "source": [
    "F = sigma2_b / sigma2_w\n",
    "F"
   ]
  },
  {
   "cell_type": "markdown",
   "metadata": {},
   "source": [
    "Зафиксируем уровень значимости $\\alpha = 0.05$. Для него найдём критическое значение $F_{crit}$:"
   ]
  },
  {
   "cell_type": "code",
   "execution_count": 35,
   "metadata": {},
   "outputs": [
    {
     "data": {
      "text/plain": [
       "5.317655071578714"
      ]
     },
     "execution_count": 35,
     "metadata": {},
     "output_type": "execute_result"
    }
   ],
   "source": [
    "alpha = 0.05\n",
    "\n",
    "F_crit = stats.f.ppf(1 - alpha, k1, k2)\n",
    "F_crit"
   ]
  },
  {
   "cell_type": "markdown",
   "metadata": {},
   "source": [
    "$F < F_{crit}$ - следовательно в данной выборке местопроживание людей на скоринг не влияет."
   ]
  },
  {
   "cell_type": "markdown",
   "metadata": {},
   "source": [
    "__Задача 3__\n",
    "\n",
    "__Квартет Энскомба__ — популярный в области анализа данных пример наборов данных, у которых практически совпадают все статистические свойства (средние, дисперсии, коэффициенты корреляции, регрессионные линии), однако, существенно отличаются графики. Данный пример призван показать, насколько важна визуализация данных. Датасет представляет собой 4 пары выборок:\n",
    "\n",
    "```\n",
    "{\n",
    "    \"x1\": [10.0, 8.0, 13.0, 9.0, 11.0, 14.0, 6.0, 4.0, 12.0, 7.0, 5.0],\n",
    "    \"y1\": [8.04, 6.95, 7.58, 8.81, 8.33, 9.96, 7.24, 4.26, 10.84, 4.82, 5.68],\n",
    "    \"x2\": [10.0, 8.0, 13.0, 9.0, 11.0, 14.0, 6.0, 4.0, 12.0, 7.0, 5.0],\n",
    "    \"y2\": [9.14, 8.14, 8.74, 8.77, 9.26, 8.1, 6.13, 3.1, 9.13, 7.26, 4.74],\n",
    "    \"x3\": [10.0, 8.0, 13.0, 9.0, 11.0, 14.0, 6.0, 4.0, 12.0, 7.0, 5.0],\n",
    "    \"y3\": [7.46, 6.77, 12.74, 7.11, 7.81, 8.84, 6.08, 5.39, 8.15, 6.42, 5.73],\n",
    "    \"x4\": [8.0, 8.0, 8.0, 8.0, 8.0, 8.0, 8.0, 19.0, 8.0, 8.0, 8.0],\n",
    "    \"y4\": [6.58, 5.76, 7.71, 8.84, 8.47, 7.04, 5.25, 12.5, 5.56, 7.91, 6.89]\n",
    "}\n",
    "```\n",
    "\n",
    "По каждой паре выборок посчитайте:\n",
    "\n",
    "1. выборочное среднее и дисперсию каждой выборки,\n",
    "2. коэффициент корреляции Пирсона и прямую линейной регрессии.\n",
    "\n",
    "Убедившись в том, что они не практически не отличаются, постройте `scatter plot` по каждой паре выборок."
   ]
  },
  {
   "cell_type": "code",
   "execution_count": 58,
   "metadata": {},
   "outputs": [],
   "source": [
    "q = {\n",
    "    \"x1\": [10.0, 8.0, 13.0, 9.0, 11.0, 14.0, 6.0, 4.0, 12.0, 7.0, 5.0],\n",
    "    \"y1\": [8.04, 6.95, 7.58, 8.81, 8.33, 9.96, 7.24, 4.26, 10.84, 4.82, 5.68],\n",
    "    \"x2\": [10.0, 8.0, 13.0, 9.0, 11.0, 14.0, 6.0, 4.0, 12.0, 7.0, 5.0],\n",
    "    \"y2\": [9.14, 8.14, 8.74, 8.77, 9.26, 8.1, 6.13, 3.1, 9.13, 7.26, 4.74],\n",
    "    \"x3\": [10.0, 8.0, 13.0, 9.0, 11.0, 14.0, 6.0, 4.0, 12.0, 7.0, 5.0],\n",
    "    \"y3\": [7.46, 6.77, 12.74, 7.11, 7.81, 8.84, 6.08, 5.39, 8.15, 6.42, 5.73],\n",
    "    \"x4\": [8.0, 8.0, 8.0, 8.0, 8.0, 8.0, 8.0, 19.0, 8.0, 8.0, 8.0],\n",
    "    \"y4\": [6.58, 5.76, 7.71, 8.84, 8.47, 7.04, 5.25, 12.5, 5.56, 7.91, 6.89]\n",
    "}"
   ]
  },
  {
   "cell_type": "markdown",
   "metadata": {},
   "source": [
    "#### Найдем выборочное среднее и дисперсию каждой выборки"
   ]
  },
  {
   "cell_type": "code",
   "execution_count": 86,
   "metadata": {},
   "outputs": [
    {
     "name": "stdout",
     "output_type": "stream",
     "text": [
      "Выборка x1, среднее 9.0, дисперсия 11.0\n",
      "Выборка y1, среднее 7.500909090909093, дисперсия 4.127269090909091\n",
      "Выборка x2, среднее 9.0, дисперсия 11.0\n",
      "Выборка y2, среднее 7.50090909090909, дисперсия 4.127629090909091\n",
      "Выборка x3, среднее 9.0, дисперсия 11.0\n",
      "Выборка y3, среднее 7.5, дисперсия 4.12262\n",
      "Выборка x4, среднее 9.0, дисперсия 11.0\n",
      "Выборка y4, среднее 7.500909090909091, дисперсия 4.123249090909091\n"
     ]
    }
   ],
   "source": [
    "x_var = {}\n",
    "x_mean = {}\n",
    "y_mean = {}\n",
    "\n",
    "for key, value in q.items():\n",
    "    value = np.array(value)\n",
    "    q[key] = value\n",
    "    if key[:1] == 'x':\n",
    "        x_var[key[1:]] = value.var(ddof=1)\n",
    "        x_mean[key[1:]] = value.mean()\n",
    "    else:\n",
    "        y_mean[key[1:]] = value.mean()\n",
    "    print(f'Выборка {key}, среднее {value.mean()}, дисперсия {value.var(ddof=1)}')"
   ]
  },
  {
   "cell_type": "markdown",
   "metadata": {},
   "source": [
    "Они почти не отличаются"
   ]
  },
  {
   "cell_type": "code",
   "execution_count": 97,
   "metadata": {},
   "outputs": [
    {
     "name": "stdout",
     "output_type": "stream",
     "text": [
      "Коэффициент корреляции Пирсона 1 группы: 0.81642051634484\n",
      "Коэффициент корреляции Пирсона 2 группы: 0.8162365060002428\n",
      "Коэффициент корреляции Пирсона 3 группы: 0.8162867394895984\n",
      "Коэффициент корреляции Пирсона 4 группы: 0.8165214368885028\n"
     ]
    }
   ],
   "source": [
    "cor = {}\n",
    "for i in range(1, 5):\n",
    "    x = f'x{i}'\n",
    "    y = f'y{i}'\n",
    "    cor[str(i)] =np.cov(q.get(x), q.get(y), ddof=1)[0, 1]\n",
    "    print(f'Коэффициент корреляции Пирсона {i} группы:', np.corrcoef(q.get(x), q.get(y))[0, 1])"
   ]
  },
  {
   "cell_type": "markdown",
   "metadata": {},
   "source": [
    "#### Найдем коэффициенты линейной регрессии и построим уравнения:"
   ]
  },
  {
   "cell_type": "code",
   "execution_count": 105,
   "metadata": {},
   "outputs": [
    {
     "name": "stdout",
     "output_type": "stream",
     "text": [
      "Уравнение 1 группы: y = 3.0000909090909094 + 0.5000909090909093 * x\n",
      "Уравнение 2 группы: y = 3.000909090909089 + 0.5000000000000001 * x\n",
      "Уравнение 3 группы: y = 3.002454545454544 + 0.49972727272727285 * x\n",
      "Уравнение 4 группы: y = 3.0017272727272735 + 0.49990909090909086 * x\n"
     ]
    }
   ],
   "source": [
    "b0 = {}\n",
    "b1 = {}\n",
    "for i in range(1, 5):\n",
    "    i = str(i)\n",
    "    b1[i] = cor[i] / x_var[i]\n",
    "    b0[i] = y_mean[i] - b1[i] * x_mean[i]\n",
    "    print(f'Уравнение {i} группы: y = {b0[i]} + {b1[i]} * x')"
   ]
  },
  {
   "cell_type": "markdown",
   "metadata": {},
   "source": [
    "#### Построим графики:"
   ]
  },
  {
   "cell_type": "code",
   "execution_count": 115,
   "metadata": {},
   "outputs": [
    {
     "data": {
      "image/png": "[encoded data removed]",
      "text/plain": [
       "<Figure size 720x576 with 4 Axes>"
      ]
     },
     "metadata": {
      "needs_background": "light"
     },
     "output_type": "display_data"
    }
   ],
   "source": [
    "fig, ax = plt.subplots(nrows=2, ncols=2)\n",
    "fig.set_size_inches(10, 8)\n",
    "axf = ax.flatten()\n",
    "\n",
    "for i in range(4):\n",
    "    k = str(i+1)\n",
    "    x = f'x{k}'\n",
    "    y = f'y{k}'\n",
    "    axf[i].scatter(q[x], q[y])\n",
    "    axf[i].plot(q[x], b0[k] + b1[k] * q[x], color='red', alpha=0.5)\n",
    "    axf[i].set_title(f'Группа {i}')\n",
    "\n",
    "plt.show()"
   ]
  }
 ],
 "metadata": {
  "kernelspec": {
   "display_name": "Python 3",
   "language": "python",
   "name": "python3"
  },
  "language_info": {
   "codemirror_mode": {
    "name": "ipython",
    "version": 3
   },
   "file_extension": ".py",
   "mimetype": "text/x-python",
   "name": "python",
   "nbconvert_exporter": "python",
   "pygments_lexer": "ipython3",
   "version": "3.7.3"
  }
 },
 "nbformat": 4,
 "nbformat_minor": 4
}

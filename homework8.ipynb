{
 "cells": [
  {
   "cell_type": "code",
   "execution_count": 1,
   "metadata": {},
   "outputs": [],
   "source": [
    "import numpy as np\n",
    "from matplotlib import pyplot as plt\n",
    "from mpl_toolkits.mplot3d import Axes3D\n",
    "from sklearn.linear_model import LogisticRegression\n",
    "from scipy import stats\n",
    "\n",
    "plt.style.use('seaborn-whitegrid')"
   ]
  },
  {
   "cell_type": "markdown",
   "metadata": {},
   "source": [
    "__Задача 1__\n",
    "\n",
    "Объясняемая переменная `y` зависит от двух категориальных факторов `A` и `B`, причём фактор `A` имеет 3 уровня, а фактор `B` - 4 уровня. Результаты наблюдений приведены в таблице:\n",
    "\n",
    "```\n",
    "y = [[2.68, 3.29, 2.88, 4.45],\n",
    "     [4.12, 4.96, 5.09, 5.22],\n",
    "     [5.52, 4.50, 5.42, 5.29]]\n",
    "```\n",
    "\n",
    "С помощью двухфакторного дисперсионного анализа проверьте влияние каждого из факторов на переменную `y`."
   ]
  },
  {
   "cell_type": "code",
   "execution_count": 2,
   "metadata": {},
   "outputs": [],
   "source": [
    "y = np.array([[2.68, 3.29, 2.88, 4.45],\n",
    "              [4.12, 4.96, 5.09, 5.22],\n",
    "              [5.52, 4.50, 5.42, 5.29]])"
   ]
  },
  {
   "cell_type": "markdown",
   "metadata": {},
   "source": [
    "#### Проверим нулевую гипотезу о равенстве средних значений на каждом уровне:"
   ]
  },
  {
   "cell_type": "code",
   "execution_count": 3,
   "metadata": {},
   "outputs": [
    {
     "name": "stdout",
     "output_type": "stream",
     "text": [
      "Среднее значение по столбцам: [4.10666667 4.25       4.46333333 4.98666667]\n",
      "Среднее значение по строкам: [3.325  4.8475 5.1825]\n",
      "Среднее по матрице: 4.451666666666666\n"
     ]
    }
   ],
   "source": [
    "y_k = y.mean(axis=0)\n",
    "y_m = y.mean(axis=1)\n",
    "y_mean = y.mean()\n",
    "\n",
    "print('Среднее значение по столбцам:', y_k)\n",
    "print('Среднее значение по строкам:', y_m)\n",
    "print('Среднее по матрице:', y_mean)"
   ]
  },
  {
   "cell_type": "markdown",
   "metadata": {},
   "source": [
    "Нулевую гипотезу можно отвергнуть, т.к. средние значения не равны"
   ]
  },
  {
   "cell_type": "code",
   "execution_count": 4,
   "metadata": {},
   "outputs": [
    {
     "data": {
      "text/plain": [
       "(4, 3)"
      ]
     },
     "execution_count": 4,
     "metadata": {},
     "output_type": "execute_result"
    }
   ],
   "source": [
    "k = len(y[0])\n",
    "m = len(y)\n",
    "k, m"
   ]
  },
  {
   "cell_type": "markdown",
   "metadata": {},
   "source": [
    "Посчитаем суммы квадратов отклонений:\n",
    "$$S_A^2 = k \\cdot \\displaystyle\\sum_{i=1}^m \\left( \\overline{y_{i \\ast}} - \\overline{y} \\right)^2, \\:\n",
    "S_B^2 = m \\cdot \\displaystyle\\sum_{j=1}^k \\left( \\overline{y_{\\ast j}} - \\overline{y} \\right)^2, \\:\n",
    "S_w^2 = \\displaystyle\\sum_{i=1}^m \\displaystyle\\sum_{j=1}^k \\left( y_{ij} - \\overline{y_{i \\ast}} - \\overline{y_{\\ast j}} + \\overline{y} \\right)^2.$$"
   ]
  },
  {
   "cell_type": "code",
   "execution_count": 5,
   "metadata": {},
   "outputs": [
    {
     "data": {
      "text/plain": [
       "7.8407166666666654"
      ]
     },
     "execution_count": 5,
     "metadata": {},
     "output_type": "execute_result"
    }
   ],
   "source": [
    "s_a = 0\n",
    "for i in range(m):\n",
    "    s_a += (y_m[i] - y_mean)**2\n",
    "\n",
    "s_a = s_a * k\n",
    "s_a"
   ]
  },
  {
   "cell_type": "code",
   "execution_count": 6,
   "metadata": {},
   "outputs": [
    {
     "data": {
      "text/plain": [
       "1.338166666666669"
      ]
     },
     "execution_count": 6,
     "metadata": {},
     "output_type": "execute_result"
    }
   ],
   "source": [
    "s_b = 0\n",
    "for j in range(k):\n",
    "    s_b += (y_k[j] - y_mean)**2\n",
    "\n",
    "s_b = s_b * m\n",
    "s_b"
   ]
  },
  {
   "cell_type": "code",
   "execution_count": 7,
   "metadata": {},
   "outputs": [
    {
     "data": {
      "text/plain": [
       "1.9298833333333327"
      ]
     },
     "execution_count": 7,
     "metadata": {},
     "output_type": "execute_result"
    }
   ],
   "source": [
    "s_w = 0\n",
    "for i in range(m):\n",
    "    for j in range(k):\n",
    "        s_w += (y[i, j] - y_m[i] - y_k[j] + y_mean)**2\n",
    "s_w"
   ]
  },
  {
   "cell_type": "markdown",
   "metadata": {},
   "source": [
    "Посчитаем дисперсии:\n",
    "$$\\sigma_A^2 = \\dfrac{S_A^2}{m - 1}, \\: \\sigma_B^2 = \\dfrac{S_B^2}{k - 1}, \\:\n",
    "\\sigma_w^2 = \\dfrac{S_{res}^2}{(k - 1) (m - 1)}.$$"
   ]
  },
  {
   "cell_type": "code",
   "execution_count": 8,
   "metadata": {},
   "outputs": [
    {
     "data": {
      "text/plain": [
       "(3.9203583333333327, 0.4460555555555563, 0.32164722222222214)"
      ]
     },
     "execution_count": 8,
     "metadata": {},
     "output_type": "execute_result"
    }
   ],
   "source": [
    "disp_a = s_a/(m-1)\n",
    "disp_b = s_b/(k-1)\n",
    "disp_w = s_w/((m-1)*(k-1))\n",
    "\n",
    "disp_a, disp_b, disp_w"
   ]
  },
  {
   "cell_type": "markdown",
   "metadata": {},
   "source": [
    "Вычислим статистики:\n",
    "$$F_A = \\dfrac{\\sigma_A^2}{\\sigma_w^2}, \\: F_B = \\dfrac{\\sigma_B^2}{\\sigma_w^2}.$$"
   ]
  },
  {
   "cell_type": "code",
   "execution_count": 9,
   "metadata": {},
   "outputs": [
    {
     "data": {
      "text/plain": [
       "(12.188379262995173, 1.386785038819275)"
      ]
     },
     "execution_count": 9,
     "metadata": {},
     "output_type": "execute_result"
    }
   ],
   "source": [
    "f_a = disp_a / disp_w\n",
    "f_b = disp_b / disp_w\n",
    "f_a, f_b"
   ]
  },
  {
   "cell_type": "markdown",
   "metadata": {},
   "source": [
    "Выберем уровень значимости и вычислим критическое значение"
   ]
  },
  {
   "cell_type": "code",
   "execution_count": 10,
   "metadata": {},
   "outputs": [
    {
     "data": {
      "text/plain": [
       "(4.25649472909375, 4.06618055135116)"
      ]
     },
     "execution_count": 10,
     "metadata": {},
     "output_type": "execute_result"
    }
   ],
   "source": [
    "n = k * m\n",
    "k1_a = m - 1\n",
    "k2_a = n - m\n",
    "k1_b = k - 1\n",
    "k2_b = n - k\n",
    "\n",
    "alpha = 0.05\n",
    "\n",
    "f_a_crit = stats.f.ppf(1 - alpha, k1_a, k2_a)\n",
    "f_b_crit = stats.f.ppf(1 - alpha, k1_b, k2_b)\n",
    "f_a_crit, f_b_crit"
   ]
  },
  {
   "cell_type": "markdown",
   "metadata": {},
   "source": [
    "* $F_A > F_{crit, \\: A}$ - следовательно __фактор А влияет__ на переменную y.\n",
    "* $F_A < F_{crit, \\: B}$ - следовательно __фактор B не влияет__ на переменную y."
   ]
  },
  {
   "cell_type": "markdown",
   "metadata": {},
   "source": [
    "__Задача 2__\n",
    "\n",
    "С помощью критерия Стьюдента для двух независимых выборок проверьте гипотезу о равенстве среднего роста футболистов и хоккеистов, основываясь на результатах измерений:\n",
    "\n",
    "```\n",
    "football_players = [173, 175, 180, 178, 177, 185, 183, 182]\n",
    "hockey_players = [177, 179, 180, 188, 177, 172, 171, 184, 180]\n",
    "```"
   ]
  },
  {
   "cell_type": "code",
   "execution_count": 11,
   "metadata": {},
   "outputs": [],
   "source": [
    "football_players = np.array([173, 175, 180, 178, 177, 185, 183, 182])\n",
    "hockey_players = np.array([177, 179, 180, 188, 177, 172, 171, 184, 180])\n",
    "n1 = len(football_players)\n",
    "n2 = len(hockey_players)"
   ]
  },
  {
   "cell_type": "markdown",
   "metadata": {},
   "source": [
    "Средние значения выборок:"
   ]
  },
  {
   "cell_type": "code",
   "execution_count": 12,
   "metadata": {},
   "outputs": [
    {
     "data": {
      "text/plain": [
       "(179.125, 178.66666666666666)"
      ]
     },
     "execution_count": 12,
     "metadata": {},
     "output_type": "execute_result"
    }
   ],
   "source": [
    "f_mean = football_players.mean()\n",
    "h_mean = hockey_players.mean()\n",
    "f_mean, h_mean"
   ]
  },
  {
   "cell_type": "markdown",
   "metadata": {},
   "source": [
    "Дисперсия выборок:"
   ]
  },
  {
   "cell_type": "code",
   "execution_count": 13,
   "metadata": {},
   "outputs": [
    {
     "data": {
      "text/plain": [
       "(4.120939559996343, 5.338539126015656)"
      ]
     },
     "execution_count": 13,
     "metadata": {},
     "output_type": "execute_result"
    }
   ],
   "source": [
    "f_std = football_players.std(ddof=1)\n",
    "h_std = hockey_players.std(ddof=1)\n",
    "f_std, h_std"
   ]
  },
  {
   "cell_type": "markdown",
   "metadata": {},
   "source": [
    "Для проверки гипотезы рассмотрим статистику\n",
    "$$T = \\dfrac{\\overline{X_1} -\\overline{X_2}}{\\sqrt{\\frac{\\sigma_1^2}{n_1} + \\frac{\\sigma_2^2}{n_2}}}$$"
   ]
  },
  {
   "cell_type": "code",
   "execution_count": 17,
   "metadata": {},
   "outputs": [
    {
     "data": {
      "text/plain": [
       "0.19928601397363732"
      ]
     },
     "execution_count": 17,
     "metadata": {},
     "output_type": "execute_result"
    }
   ],
   "source": [
    "t = (f_mean - h_mean) / (f_std**2 / n1 + h_std**2 / n2)**0.5\n",
    "t"
   ]
  },
  {
   "cell_type": "markdown",
   "metadata": {},
   "source": [
    "Зададим $\\alpha = 0.05$. В нашем случае $n = 12$, поэтому нас интересует квантиль $t_{1 - 0.05/2, \\: 10} = 2.2281$."
   ]
  },
  {
   "cell_type": "code",
   "execution_count": 19,
   "metadata": {},
   "outputs": [
    {
     "data": {
      "text/plain": [
       "(2.3646242510102993, 2.3060041350333704)"
      ]
     },
     "execution_count": 19,
     "metadata": {},
     "output_type": "execute_result"
    }
   ],
   "source": [
    "alpha = 0.05\n",
    "\n",
    "k1 = stats.t.ppf(1 - alpha / 2, df=n1-1)\n",
    "k2 = stats.t.ppf(1 - alpha / 2, df=n2-1)\n",
    "k1, k2"
   ]
  },
  {
   "cell_type": "markdown",
   "metadata": {},
   "source": [
    "Доверительный интервал для параметра $b_1$:"
   ]
  },
  {
   "cell_type": "code",
   "execution_count": 20,
   "metadata": {},
   "outputs": [
    {
     "data": {
      "text/plain": [
       "179.125"
      ]
     },
     "metadata": {},
     "output_type": "display_data"
    },
    {
     "data": {
      "text/plain": [
       "(178.65376345847076, 179.59623654152924)"
      ]
     },
     "execution_count": 20,
     "metadata": {},
     "output_type": "execute_result"
    }
   ],
   "source": [
    "display(f_mean)\n",
    "(f_mean - t * k1, f_mean + t * k1)"
   ]
  },
  {
   "cell_type": "code",
   "execution_count": 21,
   "metadata": {},
   "outputs": [
    {
     "data": {
      "text/plain": [
       "178.66666666666666"
      ]
     },
     "metadata": {},
     "output_type": "display_data"
    },
    {
     "data": {
      "text/plain": [
       "(178.19543012513742, 179.1379032081959)"
      ]
     },
     "execution_count": 21,
     "metadata": {},
     "output_type": "execute_result"
    }
   ],
   "source": [
    "display(h_mean)\n",
    "(h_mean - t * k1, h_mean + t * k1)"
   ]
  }
 ],
 "metadata": {
  "kernelspec": {
   "display_name": "Python 3",
   "language": "python",
   "name": "python3"
  },
  "language_info": {
   "codemirror_mode": {
    "name": "ipython",
    "version": 3
   },
   "file_extension": ".py",
   "mimetype": "text/x-python",
   "name": "python",
   "nbconvert_exporter": "python",
   "pygments_lexer": "ipython3",
   "version": "3.7.3"
  }
 },
 "nbformat": 4,
 "nbformat_minor": 4
}

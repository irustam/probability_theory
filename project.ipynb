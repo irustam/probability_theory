{
 "cells": [
  {
   "cell_type": "markdown",
   "metadata": {},
   "source": [
    "# Изучим данные по экзопланетам\n",
    "#### Источник https://exoplanetarchive.ipac.caltech.edu/docs/program_interfaces.html"
   ]
  },
  {
   "cell_type": "code",
   "execution_count": 66,
   "metadata": {},
   "outputs": [],
   "source": [
    "import numpy as np\n",
    "import pandas as pd\n",
    "from scipy import stats\n",
    "from matplotlib import pyplot as plt\n",
    "from sklearn.linear_model import LogisticRegression\n",
    "from sklearn.model_selection import train_test_split\n",
    "from sklearn.metrics import accuracy_score\n",
    "import warnings\n",
    "\n",
    "warnings.filterwarnings('ignore')\n",
    "pd.set_option('display.max_columns', 500)\n",
    "plt.style.use('seaborn-whitegrid')"
   ]
  },
  {
   "cell_type": "code",
   "execution_count": 2,
   "metadata": {},
   "outputs": [],
   "source": [
    "df = pd.read_csv('exoplanets.csv', parse_dates=['rowupdate'])"
   ]
  },
  {
   "cell_type": "code",
   "execution_count": 3,
   "metadata": {},
   "outputs": [
    {
     "data": {
      "text/html": [
       "<div>\n",
       "<style scoped>\n",
       "    .dataframe tbody tr th:only-of-type {\n",
       "        vertical-align: middle;\n",
       "    }\n",
       "\n",
       "    .dataframe tbody tr th {\n",
       "        vertical-align: top;\n",
       "    }\n",
       "\n",
       "    .dataframe thead th {\n",
       "        text-align: right;\n",
       "    }\n",
       "</style>\n",
       "<table border=\"1\" class=\"dataframe\">\n",
       "  <thead>\n",
       "    <tr style=\"text-align: right;\">\n",
       "      <th></th>\n",
       "      <th>pl_hostname</th>\n",
       "      <th>pl_letter</th>\n",
       "      <th>pl_name</th>\n",
       "      <th>pl_discmethod</th>\n",
       "      <th>pl_controvflag</th>\n",
       "      <th>pl_pnum</th>\n",
       "      <th>pl_orbper</th>\n",
       "      <th>pl_orbpererr1</th>\n",
       "      <th>pl_orbpererr2</th>\n",
       "      <th>pl_orbperlim</th>\n",
       "      <th>pl_orbpern</th>\n",
       "      <th>pl_orbsmax</th>\n",
       "      <th>pl_orbsmaxerr1</th>\n",
       "      <th>pl_orbsmaxerr2</th>\n",
       "      <th>pl_orbsmaxlim</th>\n",
       "      <th>pl_orbsmaxn</th>\n",
       "      <th>pl_orbeccen</th>\n",
       "      <th>pl_orbeccenerr1</th>\n",
       "      <th>pl_orbeccenerr2</th>\n",
       "      <th>pl_orbeccenlim</th>\n",
       "      <th>pl_orbeccenn</th>\n",
       "      <th>pl_orbincl</th>\n",
       "      <th>pl_orbinclerr1</th>\n",
       "      <th>pl_orbinclerr2</th>\n",
       "      <th>pl_orbincllim</th>\n",
       "      <th>pl_orbincln</th>\n",
       "      <th>pl_bmassj</th>\n",
       "      <th>pl_bmassjerr1</th>\n",
       "      <th>pl_bmassjerr2</th>\n",
       "      <th>pl_bmassjlim</th>\n",
       "      <th>pl_bmassn</th>\n",
       "      <th>pl_bmassprov</th>\n",
       "      <th>pl_radj</th>\n",
       "      <th>pl_radjerr1</th>\n",
       "      <th>pl_radjerr2</th>\n",
       "      <th>pl_radjlim</th>\n",
       "      <th>pl_radn</th>\n",
       "      <th>pl_dens</th>\n",
       "      <th>pl_denserr1</th>\n",
       "      <th>pl_denserr2</th>\n",
       "      <th>pl_denslim</th>\n",
       "      <th>pl_densn</th>\n",
       "      <th>pl_ttvflag</th>\n",
       "      <th>pl_kepflag</th>\n",
       "      <th>pl_k2flag</th>\n",
       "      <th>ra_str</th>\n",
       "      <th>dec_str</th>\n",
       "      <th>ra</th>\n",
       "      <th>st_raerr</th>\n",
       "      <th>dec</th>\n",
       "      <th>st_decerr</th>\n",
       "      <th>st_posn</th>\n",
       "      <th>st_dist</th>\n",
       "      <th>st_disterr1</th>\n",
       "      <th>st_disterr2</th>\n",
       "      <th>st_distlim</th>\n",
       "      <th>st_distn</th>\n",
       "      <th>st_optmag</th>\n",
       "      <th>st_optmagerr</th>\n",
       "      <th>st_optmaglim</th>\n",
       "      <th>st_optband</th>\n",
       "      <th>gaia_gmag</th>\n",
       "      <th>gaia_gmagerr</th>\n",
       "      <th>gaia_gmaglim</th>\n",
       "      <th>st_teff</th>\n",
       "      <th>st_tefferr1</th>\n",
       "      <th>st_tefferr2</th>\n",
       "      <th>st_tefflim</th>\n",
       "      <th>st_teffn</th>\n",
       "      <th>st_mass</th>\n",
       "      <th>st_masserr1</th>\n",
       "      <th>st_masserr2</th>\n",
       "      <th>st_masslim</th>\n",
       "      <th>st_massn</th>\n",
       "      <th>st_rad</th>\n",
       "      <th>st_raderr1</th>\n",
       "      <th>st_raderr2</th>\n",
       "      <th>st_radlim</th>\n",
       "      <th>st_radn</th>\n",
       "      <th>pl_nnotes</th>\n",
       "      <th>rowupdate</th>\n",
       "      <th>pl_facility</th>\n",
       "    </tr>\n",
       "  </thead>\n",
       "  <tbody>\n",
       "    <tr>\n",
       "      <th>0</th>\n",
       "      <td>HD 128311</td>\n",
       "      <td>c</td>\n",
       "      <td>HD 128311 c</td>\n",
       "      <td>Radial Velocity</td>\n",
       "      <td>0</td>\n",
       "      <td>2</td>\n",
       "      <td>921.53800</td>\n",
       "      <td>1.15000</td>\n",
       "      <td>-1.15000</td>\n",
       "      <td>0.0</td>\n",
       "      <td>4</td>\n",
       "      <td>1.7400</td>\n",
       "      <td>0.01</td>\n",
       "      <td>-0.01</td>\n",
       "      <td>0.0</td>\n",
       "      <td>3</td>\n",
       "      <td>0.159</td>\n",
       "      <td>0.006</td>\n",
       "      <td>-0.006</td>\n",
       "      <td>0.0</td>\n",
       "      <td>4</td>\n",
       "      <td>55.95</td>\n",
       "      <td>14.553</td>\n",
       "      <td>-14.553</td>\n",
       "      <td>0.0</td>\n",
       "      <td>1</td>\n",
       "      <td>3.789</td>\n",
       "      <td>0.924</td>\n",
       "      <td>-0.432</td>\n",
       "      <td>0.0</td>\n",
       "      <td>5</td>\n",
       "      <td>Mass</td>\n",
       "      <td>NaN</td>\n",
       "      <td>NaN</td>\n",
       "      <td>NaN</td>\n",
       "      <td>NaN</td>\n",
       "      <td>0</td>\n",
       "      <td>NaN</td>\n",
       "      <td>NaN</td>\n",
       "      <td>NaN</td>\n",
       "      <td>NaN</td>\n",
       "      <td>0</td>\n",
       "      <td>0</td>\n",
       "      <td>0</td>\n",
       "      <td>0</td>\n",
       "      <td>14h36m00.56s</td>\n",
       "      <td>+09d44m47.5s</td>\n",
       "      <td>219.002335</td>\n",
       "      <td>0.000002</td>\n",
       "      <td>9.746518</td>\n",
       "      <td>0.000002</td>\n",
       "      <td>3</td>\n",
       "      <td>16.52</td>\n",
       "      <td>0.04</td>\n",
       "      <td>-0.04</td>\n",
       "      <td>0.0</td>\n",
       "      <td>7</td>\n",
       "      <td>7.510</td>\n",
       "      <td>0.050</td>\n",
       "      <td>0.0</td>\n",
       "      <td>V (Johnson)</td>\n",
       "      <td>7.167</td>\n",
       "      <td>NaN</td>\n",
       "      <td>0.0</td>\n",
       "      <td>NaN</td>\n",
       "      <td>NaN</td>\n",
       "      <td>NaN</td>\n",
       "      <td>NaN</td>\n",
       "      <td>7</td>\n",
       "      <td>0.83</td>\n",
       "      <td>0.01</td>\n",
       "      <td>-0.01</td>\n",
       "      <td>0.0</td>\n",
       "      <td>10</td>\n",
       "      <td>0.76</td>\n",
       "      <td>0.02</td>\n",
       "      <td>-0.02</td>\n",
       "      <td>0.0</td>\n",
       "      <td>5</td>\n",
       "      <td>1</td>\n",
       "      <td>2015-06-25</td>\n",
       "      <td>W. M. Keck Observatory</td>\n",
       "    </tr>\n",
       "    <tr>\n",
       "      <th>1</th>\n",
       "      <td>HD 129445</td>\n",
       "      <td>b</td>\n",
       "      <td>HD 129445 b</td>\n",
       "      <td>Radial Velocity</td>\n",
       "      <td>0</td>\n",
       "      <td>1</td>\n",
       "      <td>1840.00000</td>\n",
       "      <td>55.00000</td>\n",
       "      <td>-55.00000</td>\n",
       "      <td>0.0</td>\n",
       "      <td>1</td>\n",
       "      <td>2.9000</td>\n",
       "      <td>0.20</td>\n",
       "      <td>-0.20</td>\n",
       "      <td>0.0</td>\n",
       "      <td>1</td>\n",
       "      <td>0.700</td>\n",
       "      <td>0.100</td>\n",
       "      <td>-0.100</td>\n",
       "      <td>0.0</td>\n",
       "      <td>1</td>\n",
       "      <td>NaN</td>\n",
       "      <td>NaN</td>\n",
       "      <td>NaN</td>\n",
       "      <td>0.0</td>\n",
       "      <td>0</td>\n",
       "      <td>1.600</td>\n",
       "      <td>0.600</td>\n",
       "      <td>-0.600</td>\n",
       "      <td>0.0</td>\n",
       "      <td>1</td>\n",
       "      <td>Msini</td>\n",
       "      <td>NaN</td>\n",
       "      <td>NaN</td>\n",
       "      <td>NaN</td>\n",
       "      <td>0.0</td>\n",
       "      <td>0</td>\n",
       "      <td>NaN</td>\n",
       "      <td>NaN</td>\n",
       "      <td>NaN</td>\n",
       "      <td>0.0</td>\n",
       "      <td>0</td>\n",
       "      <td>0</td>\n",
       "      <td>0</td>\n",
       "      <td>0</td>\n",
       "      <td>14h46m03.07s</td>\n",
       "      <td>-68d45m45.9s</td>\n",
       "      <td>221.512772</td>\n",
       "      <td>0.000002</td>\n",
       "      <td>-68.762749</td>\n",
       "      <td>0.000003</td>\n",
       "      <td>2</td>\n",
       "      <td>67.57</td>\n",
       "      <td>0.16</td>\n",
       "      <td>-0.16</td>\n",
       "      <td>0.0</td>\n",
       "      <td>2</td>\n",
       "      <td>8.800</td>\n",
       "      <td>NaN</td>\n",
       "      <td>0.0</td>\n",
       "      <td>V (Johnson)</td>\n",
       "      <td>8.618</td>\n",
       "      <td>NaN</td>\n",
       "      <td>0.0</td>\n",
       "      <td>NaN</td>\n",
       "      <td>NaN</td>\n",
       "      <td>NaN</td>\n",
       "      <td>NaN</td>\n",
       "      <td>2</td>\n",
       "      <td>0.99</td>\n",
       "      <td>NaN</td>\n",
       "      <td>NaN</td>\n",
       "      <td>0.0</td>\n",
       "      <td>2</td>\n",
       "      <td>NaN</td>\n",
       "      <td>NaN</td>\n",
       "      <td>NaN</td>\n",
       "      <td>NaN</td>\n",
       "      <td>1</td>\n",
       "      <td>0</td>\n",
       "      <td>2019-01-31</td>\n",
       "      <td>Las Campanas Observatory</td>\n",
       "    </tr>\n",
       "    <tr>\n",
       "      <th>2</th>\n",
       "      <td>HD 130322</td>\n",
       "      <td>b</td>\n",
       "      <td>HD 130322 b</td>\n",
       "      <td>Radial Velocity</td>\n",
       "      <td>0</td>\n",
       "      <td>1</td>\n",
       "      <td>10.70871</td>\n",
       "      <td>0.00018</td>\n",
       "      <td>-0.00018</td>\n",
       "      <td>0.0</td>\n",
       "      <td>3</td>\n",
       "      <td>0.0925</td>\n",
       "      <td>NaN</td>\n",
       "      <td>NaN</td>\n",
       "      <td>0.0</td>\n",
       "      <td>3</td>\n",
       "      <td>0.029</td>\n",
       "      <td>0.016</td>\n",
       "      <td>-0.016</td>\n",
       "      <td>0.0</td>\n",
       "      <td>3</td>\n",
       "      <td>NaN</td>\n",
       "      <td>NaN</td>\n",
       "      <td>NaN</td>\n",
       "      <td>NaN</td>\n",
       "      <td>0</td>\n",
       "      <td>1.150</td>\n",
       "      <td>NaN</td>\n",
       "      <td>NaN</td>\n",
       "      <td>0.0</td>\n",
       "      <td>3</td>\n",
       "      <td>Msini</td>\n",
       "      <td>NaN</td>\n",
       "      <td>NaN</td>\n",
       "      <td>NaN</td>\n",
       "      <td>NaN</td>\n",
       "      <td>0</td>\n",
       "      <td>NaN</td>\n",
       "      <td>NaN</td>\n",
       "      <td>NaN</td>\n",
       "      <td>NaN</td>\n",
       "      <td>0</td>\n",
       "      <td>0</td>\n",
       "      <td>0</td>\n",
       "      <td>0</td>\n",
       "      <td>14h47m32.73s</td>\n",
       "      <td>-00d16m53.3s</td>\n",
       "      <td>221.886368</td>\n",
       "      <td>0.000003</td>\n",
       "      <td>-0.281476</td>\n",
       "      <td>0.000003</td>\n",
       "      <td>2</td>\n",
       "      <td>31.91</td>\n",
       "      <td>0.07</td>\n",
       "      <td>-0.07</td>\n",
       "      <td>0.0</td>\n",
       "      <td>4</td>\n",
       "      <td>8.031</td>\n",
       "      <td>0.016</td>\n",
       "      <td>0.0</td>\n",
       "      <td>V (Johnson)</td>\n",
       "      <td>7.834</td>\n",
       "      <td>NaN</td>\n",
       "      <td>0.0</td>\n",
       "      <td>5387.0</td>\n",
       "      <td>44.0</td>\n",
       "      <td>-44.0</td>\n",
       "      <td>0.0</td>\n",
       "      <td>9</td>\n",
       "      <td>0.92</td>\n",
       "      <td>0.03</td>\n",
       "      <td>-0.03</td>\n",
       "      <td>0.0</td>\n",
       "      <td>8</td>\n",
       "      <td>0.85</td>\n",
       "      <td>0.04</td>\n",
       "      <td>-0.04</td>\n",
       "      <td>0.0</td>\n",
       "      <td>4</td>\n",
       "      <td>0</td>\n",
       "      <td>2015-02-19</td>\n",
       "      <td>La Silla Observatory</td>\n",
       "    </tr>\n",
       "    <tr>\n",
       "      <th>3</th>\n",
       "      <td>HD 131496</td>\n",
       "      <td>b</td>\n",
       "      <td>HD 131496 b</td>\n",
       "      <td>Radial Velocity</td>\n",
       "      <td>0</td>\n",
       "      <td>1</td>\n",
       "      <td>896.00000</td>\n",
       "      <td>16.00000</td>\n",
       "      <td>-16.00000</td>\n",
       "      <td>0.0</td>\n",
       "      <td>3</td>\n",
       "      <td>2.0100</td>\n",
       "      <td>0.12</td>\n",
       "      <td>-0.12</td>\n",
       "      <td>0.0</td>\n",
       "      <td>3</td>\n",
       "      <td>0.181</td>\n",
       "      <td>0.060</td>\n",
       "      <td>-0.060</td>\n",
       "      <td>0.0</td>\n",
       "      <td>3</td>\n",
       "      <td>NaN</td>\n",
       "      <td>NaN</td>\n",
       "      <td>NaN</td>\n",
       "      <td>0.0</td>\n",
       "      <td>0</td>\n",
       "      <td>1.800</td>\n",
       "      <td>0.100</td>\n",
       "      <td>-0.100</td>\n",
       "      <td>0.0</td>\n",
       "      <td>3</td>\n",
       "      <td>Msini</td>\n",
       "      <td>NaN</td>\n",
       "      <td>NaN</td>\n",
       "      <td>NaN</td>\n",
       "      <td>NaN</td>\n",
       "      <td>0</td>\n",
       "      <td>NaN</td>\n",
       "      <td>NaN</td>\n",
       "      <td>NaN</td>\n",
       "      <td>0.0</td>\n",
       "      <td>0</td>\n",
       "      <td>0</td>\n",
       "      <td>0</td>\n",
       "      <td>0</td>\n",
       "      <td>14h53m23.03s</td>\n",
       "      <td>+18d14m07.4s</td>\n",
       "      <td>223.345947</td>\n",
       "      <td>0.000002</td>\n",
       "      <td>18.235401</td>\n",
       "      <td>0.000002</td>\n",
       "      <td>2</td>\n",
       "      <td>132.34</td>\n",
       "      <td>1.15</td>\n",
       "      <td>-1.15</td>\n",
       "      <td>0.0</td>\n",
       "      <td>2</td>\n",
       "      <td>7.800</td>\n",
       "      <td>NaN</td>\n",
       "      <td>0.0</td>\n",
       "      <td>V (Johnson)</td>\n",
       "      <td>7.521</td>\n",
       "      <td>NaN</td>\n",
       "      <td>0.0</td>\n",
       "      <td>4846.0</td>\n",
       "      <td>NaN</td>\n",
       "      <td>NaN</td>\n",
       "      <td>0.0</td>\n",
       "      <td>5</td>\n",
       "      <td>1.34</td>\n",
       "      <td>NaN</td>\n",
       "      <td>NaN</td>\n",
       "      <td>0.0</td>\n",
       "      <td>4</td>\n",
       "      <td>4.44</td>\n",
       "      <td>NaN</td>\n",
       "      <td>NaN</td>\n",
       "      <td>0.0</td>\n",
       "      <td>5</td>\n",
       "      <td>0</td>\n",
       "      <td>2018-12-06</td>\n",
       "      <td>W. M. Keck Observatory</td>\n",
       "    </tr>\n",
       "    <tr>\n",
       "      <th>4</th>\n",
       "      <td>HD 132406</td>\n",
       "      <td>b</td>\n",
       "      <td>HD 132406 b</td>\n",
       "      <td>Radial Velocity</td>\n",
       "      <td>0</td>\n",
       "      <td>1</td>\n",
       "      <td>974.00000</td>\n",
       "      <td>39.00000</td>\n",
       "      <td>-39.00000</td>\n",
       "      <td>0.0</td>\n",
       "      <td>2</td>\n",
       "      <td>1.9800</td>\n",
       "      <td>0.06</td>\n",
       "      <td>-0.06</td>\n",
       "      <td>0.0</td>\n",
       "      <td>2</td>\n",
       "      <td>0.340</td>\n",
       "      <td>0.090</td>\n",
       "      <td>-0.090</td>\n",
       "      <td>0.0</td>\n",
       "      <td>2</td>\n",
       "      <td>NaN</td>\n",
       "      <td>NaN</td>\n",
       "      <td>NaN</td>\n",
       "      <td>0.0</td>\n",
       "      <td>0</td>\n",
       "      <td>5.380</td>\n",
       "      <td>1.310</td>\n",
       "      <td>-1.310</td>\n",
       "      <td>0.0</td>\n",
       "      <td>2</td>\n",
       "      <td>Msini</td>\n",
       "      <td>NaN</td>\n",
       "      <td>NaN</td>\n",
       "      <td>NaN</td>\n",
       "      <td>0.0</td>\n",
       "      <td>0</td>\n",
       "      <td>NaN</td>\n",
       "      <td>NaN</td>\n",
       "      <td>NaN</td>\n",
       "      <td>0.0</td>\n",
       "      <td>0</td>\n",
       "      <td>0</td>\n",
       "      <td>0</td>\n",
       "      <td>0</td>\n",
       "      <td>14h56m54.65s</td>\n",
       "      <td>+53d22m55.8s</td>\n",
       "      <td>224.227707</td>\n",
       "      <td>0.000002</td>\n",
       "      <td>53.382168</td>\n",
       "      <td>0.000002</td>\n",
       "      <td>2</td>\n",
       "      <td>70.93</td>\n",
       "      <td>0.14</td>\n",
       "      <td>-0.14</td>\n",
       "      <td>0.0</td>\n",
       "      <td>2</td>\n",
       "      <td>8.467</td>\n",
       "      <td>0.013</td>\n",
       "      <td>0.0</td>\n",
       "      <td>V (Johnson)</td>\n",
       "      <td>8.281</td>\n",
       "      <td>NaN</td>\n",
       "      <td>0.0</td>\n",
       "      <td>5783.0</td>\n",
       "      <td>38.0</td>\n",
       "      <td>-38.0</td>\n",
       "      <td>0.0</td>\n",
       "      <td>3</td>\n",
       "      <td>1.03</td>\n",
       "      <td>0.15</td>\n",
       "      <td>-0.15</td>\n",
       "      <td>0.0</td>\n",
       "      <td>2</td>\n",
       "      <td>1.34</td>\n",
       "      <td>0.04</td>\n",
       "      <td>-0.04</td>\n",
       "      <td>0.0</td>\n",
       "      <td>3</td>\n",
       "      <td>0</td>\n",
       "      <td>2018-09-06</td>\n",
       "      <td>Haute-Provence Observatory</td>\n",
       "    </tr>\n",
       "  </tbody>\n",
       "</table>\n",
       "</div>"
      ],
      "text/plain": [
       "  pl_hostname pl_letter      pl_name    pl_discmethod  pl_controvflag  \\\n",
       "0   HD 128311         c  HD 128311 c  Radial Velocity               0   \n",
       "1   HD 129445         b  HD 129445 b  Radial Velocity               0   \n",
       "2   HD 130322         b  HD 130322 b  Radial Velocity               0   \n",
       "3   HD 131496         b  HD 131496 b  Radial Velocity               0   \n",
       "4   HD 132406         b  HD 132406 b  Radial Velocity               0   \n",
       "\n",
       "   pl_pnum   pl_orbper  pl_orbpererr1  pl_orbpererr2  pl_orbperlim  \\\n",
       "0        2   921.53800        1.15000       -1.15000           0.0   \n",
       "1        1  1840.00000       55.00000      -55.00000           0.0   \n",
       "2        1    10.70871        0.00018       -0.00018           0.0   \n",
       "3        1   896.00000       16.00000      -16.00000           0.0   \n",
       "4        1   974.00000       39.00000      -39.00000           0.0   \n",
       "\n",
       "   pl_orbpern  pl_orbsmax  pl_orbsmaxerr1  pl_orbsmaxerr2  pl_orbsmaxlim  \\\n",
       "0           4      1.7400            0.01           -0.01            0.0   \n",
       "1           1      2.9000            0.20           -0.20            0.0   \n",
       "2           3      0.0925             NaN             NaN            0.0   \n",
       "3           3      2.0100            0.12           -0.12            0.0   \n",
       "4           2      1.9800            0.06           -0.06            0.0   \n",
       "\n",
       "   pl_orbsmaxn  pl_orbeccen  pl_orbeccenerr1  pl_orbeccenerr2  pl_orbeccenlim  \\\n",
       "0            3        0.159            0.006           -0.006             0.0   \n",
       "1            1        0.700            0.100           -0.100             0.0   \n",
       "2            3        0.029            0.016           -0.016             0.0   \n",
       "3            3        0.181            0.060           -0.060             0.0   \n",
       "4            2        0.340            0.090           -0.090             0.0   \n",
       "\n",
       "   pl_orbeccenn  pl_orbincl  pl_orbinclerr1  pl_orbinclerr2  pl_orbincllim  \\\n",
       "0             4       55.95          14.553         -14.553            0.0   \n",
       "1             1         NaN             NaN             NaN            0.0   \n",
       "2             3         NaN             NaN             NaN            NaN   \n",
       "3             3         NaN             NaN             NaN            0.0   \n",
       "4             2         NaN             NaN             NaN            0.0   \n",
       "\n",
       "   pl_orbincln  pl_bmassj  pl_bmassjerr1  pl_bmassjerr2  pl_bmassjlim  \\\n",
       "0            1      3.789          0.924         -0.432           0.0   \n",
       "1            0      1.600          0.600         -0.600           0.0   \n",
       "2            0      1.150            NaN            NaN           0.0   \n",
       "3            0      1.800          0.100         -0.100           0.0   \n",
       "4            0      5.380          1.310         -1.310           0.0   \n",
       "\n",
       "   pl_bmassn pl_bmassprov  pl_radj  pl_radjerr1  pl_radjerr2  pl_radjlim  \\\n",
       "0          5         Mass      NaN          NaN          NaN         NaN   \n",
       "1          1        Msini      NaN          NaN          NaN         0.0   \n",
       "2          3        Msini      NaN          NaN          NaN         NaN   \n",
       "3          3        Msini      NaN          NaN          NaN         NaN   \n",
       "4          2        Msini      NaN          NaN          NaN         0.0   \n",
       "\n",
       "   pl_radn  pl_dens  pl_denserr1  pl_denserr2  pl_denslim  pl_densn  \\\n",
       "0        0      NaN          NaN          NaN         NaN         0   \n",
       "1        0      NaN          NaN          NaN         0.0         0   \n",
       "2        0      NaN          NaN          NaN         NaN         0   \n",
       "3        0      NaN          NaN          NaN         0.0         0   \n",
       "4        0      NaN          NaN          NaN         0.0         0   \n",
       "\n",
       "   pl_ttvflag  pl_kepflag  pl_k2flag        ra_str       dec_str          ra  \\\n",
       "0           0           0          0  14h36m00.56s  +09d44m47.5s  219.002335   \n",
       "1           0           0          0  14h46m03.07s  -68d45m45.9s  221.512772   \n",
       "2           0           0          0  14h47m32.73s  -00d16m53.3s  221.886368   \n",
       "3           0           0          0  14h53m23.03s  +18d14m07.4s  223.345947   \n",
       "4           0           0          0  14h56m54.65s  +53d22m55.8s  224.227707   \n",
       "\n",
       "   st_raerr        dec  st_decerr  st_posn  st_dist  st_disterr1  st_disterr2  \\\n",
       "0  0.000002   9.746518   0.000002        3    16.52         0.04        -0.04   \n",
       "1  0.000002 -68.762749   0.000003        2    67.57         0.16        -0.16   \n",
       "2  0.000003  -0.281476   0.000003        2    31.91         0.07        -0.07   \n",
       "3  0.000002  18.235401   0.000002        2   132.34         1.15        -1.15   \n",
       "4  0.000002  53.382168   0.000002        2    70.93         0.14        -0.14   \n",
       "\n",
       "   st_distlim  st_distn  st_optmag  st_optmagerr  st_optmaglim   st_optband  \\\n",
       "0         0.0         7      7.510         0.050           0.0  V (Johnson)   \n",
       "1         0.0         2      8.800           NaN           0.0  V (Johnson)   \n",
       "2         0.0         4      8.031         0.016           0.0  V (Johnson)   \n",
       "3         0.0         2      7.800           NaN           0.0  V (Johnson)   \n",
       "4         0.0         2      8.467         0.013           0.0  V (Johnson)   \n",
       "\n",
       "   gaia_gmag  gaia_gmagerr  gaia_gmaglim  st_teff  st_tefferr1  st_tefferr2  \\\n",
       "0      7.167           NaN           0.0      NaN          NaN          NaN   \n",
       "1      8.618           NaN           0.0      NaN          NaN          NaN   \n",
       "2      7.834           NaN           0.0   5387.0         44.0        -44.0   \n",
       "3      7.521           NaN           0.0   4846.0          NaN          NaN   \n",
       "4      8.281           NaN           0.0   5783.0         38.0        -38.0   \n",
       "\n",
       "   st_tefflim  st_teffn  st_mass  st_masserr1  st_masserr2  st_masslim  \\\n",
       "0         NaN         7     0.83         0.01        -0.01         0.0   \n",
       "1         NaN         2     0.99          NaN          NaN         0.0   \n",
       "2         0.0         9     0.92         0.03        -0.03         0.0   \n",
       "3         0.0         5     1.34          NaN          NaN         0.0   \n",
       "4         0.0         3     1.03         0.15        -0.15         0.0   \n",
       "\n",
       "   st_massn  st_rad  st_raderr1  st_raderr2  st_radlim  st_radn  pl_nnotes  \\\n",
       "0        10    0.76        0.02       -0.02        0.0        5          1   \n",
       "1         2     NaN         NaN         NaN        NaN        1          0   \n",
       "2         8    0.85        0.04       -0.04        0.0        4          0   \n",
       "3         4    4.44         NaN         NaN        0.0        5          0   \n",
       "4         2    1.34        0.04       -0.04        0.0        3          0   \n",
       "\n",
       "   rowupdate                 pl_facility  \n",
       "0 2015-06-25      W. M. Keck Observatory  \n",
       "1 2019-01-31    Las Campanas Observatory  \n",
       "2 2015-02-19        La Silla Observatory  \n",
       "3 2018-12-06      W. M. Keck Observatory  \n",
       "4 2018-09-06  Haute-Provence Observatory  "
      ]
     },
     "execution_count": 3,
     "metadata": {},
     "output_type": "execute_result"
    }
   ],
   "source": [
    "df.head()"
   ]
  },
  {
   "cell_type": "code",
   "execution_count": 4,
   "metadata": {},
   "outputs": [
    {
     "name": "stdout",
     "output_type": "stream",
     "text": [
      "<class 'pandas.core.frame.DataFrame'>\n",
      "RangeIndex: 4116 entries, 0 to 4115\n",
      "Data columns (total 82 columns):\n",
      "pl_hostname        4116 non-null object\n",
      "pl_letter          4116 non-null object\n",
      "pl_name            4116 non-null object\n",
      "pl_discmethod      4116 non-null object\n",
      "pl_controvflag     4116 non-null int64\n",
      "pl_pnum            4116 non-null int64\n",
      "pl_orbper          3996 non-null float64\n",
      "pl_orbpererr1      3865 non-null float64\n",
      "pl_orbpererr2      3865 non-null float64\n",
      "pl_orbperlim       4042 non-null float64\n",
      "pl_orbpern         4116 non-null int64\n",
      "pl_orbsmax         2436 non-null float64\n",
      "pl_orbsmaxerr1     1627 non-null float64\n",
      "pl_orbsmaxerr2     1626 non-null float64\n",
      "pl_orbsmaxlim      2607 non-null float64\n",
      "pl_orbsmaxn        4116 non-null int64\n",
      "pl_orbeccen        1434 non-null float64\n",
      "pl_orbeccenerr1    999 non-null float64\n",
      "pl_orbeccenerr2    999 non-null float64\n",
      "pl_orbeccenlim     1716 non-null float64\n",
      "pl_orbeccenn       4116 non-null int64\n",
      "pl_orbincl         880 non-null float64\n",
      "pl_orbinclerr1     839 non-null float64\n",
      "pl_orbinclerr2     841 non-null float64\n",
      "pl_orbincllim      1533 non-null float64\n",
      "pl_orbincln        4116 non-null int64\n",
      "pl_bmassj          1666 non-null float64\n",
      "pl_bmassjerr1      1524 non-null float64\n",
      "pl_bmassjerr2      1524 non-null float64\n",
      "pl_bmassjlim       1916 non-null float64\n",
      "pl_bmassn          4116 non-null int64\n",
      "pl_bmassprov       1666 non-null object\n",
      "pl_radj            3162 non-null float64\n",
      "pl_radjerr1        3129 non-null float64\n",
      "pl_radjerr2        3129 non-null float64\n",
      "pl_radjlim         3638 non-null float64\n",
      "pl_radn            4116 non-null int64\n",
      "pl_dens            493 non-null float64\n",
      "pl_denserr1        475 non-null float64\n",
      "pl_denserr2        475 non-null float64\n",
      "pl_denslim         1388 non-null float64\n",
      "pl_densn           4116 non-null int64\n",
      "pl_ttvflag         4116 non-null int64\n",
      "pl_kepflag         4116 non-null int64\n",
      "pl_k2flag          4116 non-null int64\n",
      "ra_str             4116 non-null object\n",
      "dec_str            4116 non-null object\n",
      "ra                 4116 non-null float64\n",
      "st_raerr           3992 non-null float64\n",
      "dec                4116 non-null float64\n",
      "st_decerr          3992 non-null float64\n",
      "st_posn            4116 non-null int64\n",
      "st_dist            4110 non-null float64\n",
      "st_disterr1        4034 non-null float64\n",
      "st_disterr2        4034 non-null float64\n",
      "st_distlim         4110 non-null float64\n",
      "st_distn           4116 non-null int64\n",
      "st_optmag          3916 non-null float64\n",
      "st_optmagerr       979 non-null float64\n",
      "st_optmaglim       3916 non-null float64\n",
      "st_optband         3916 non-null object\n",
      "gaia_gmag          3961 non-null float64\n",
      "gaia_gmagerr       0 non-null float64\n",
      "gaia_gmaglim       3961 non-null float64\n",
      "st_teff            3883 non-null float64\n",
      "st_tefferr1        3706 non-null float64\n",
      "st_tefferr2        3679 non-null float64\n",
      "st_tefflim         4003 non-null float64\n",
      "st_teffn           4116 non-null int64\n",
      "st_mass            3350 non-null float64\n",
      "st_masserr1        3109 non-null float64\n",
      "st_masserr2        3083 non-null float64\n",
      "st_masslim         3357 non-null float64\n",
      "st_massn           4116 non-null int64\n",
      "st_rad             3755 non-null float64\n",
      "st_raderr1         3628 non-null float64\n",
      "st_raderr2         3603 non-null float64\n",
      "st_radlim          3913 non-null float64\n",
      "st_radn            4116 non-null int64\n",
      "pl_nnotes          4116 non-null int64\n",
      "rowupdate          4116 non-null datetime64[ns]\n",
      "pl_facility        4116 non-null object\n",
      "dtypes: datetime64[ns](1), float64(54), int64(18), object(9)\n",
      "memory usage: 2.6+ MB\n"
     ]
    }
   ],
   "source": [
    "df.info()"
   ]
  },
  {
   "cell_type": "code",
   "execution_count": 5,
   "metadata": {},
   "outputs": [
    {
     "data": {
      "text/html": [
       "<div>\n",
       "<style scoped>\n",
       "    .dataframe tbody tr th:only-of-type {\n",
       "        vertical-align: middle;\n",
       "    }\n",
       "\n",
       "    .dataframe tbody tr th {\n",
       "        vertical-align: top;\n",
       "    }\n",
       "\n",
       "    .dataframe thead th {\n",
       "        text-align: right;\n",
       "    }\n",
       "</style>\n",
       "<table border=\"1\" class=\"dataframe\">\n",
       "  <thead>\n",
       "    <tr style=\"text-align: right;\">\n",
       "      <th></th>\n",
       "      <th>pl_controvflag</th>\n",
       "      <th>pl_pnum</th>\n",
       "      <th>pl_orbper</th>\n",
       "      <th>pl_orbpererr1</th>\n",
       "      <th>pl_orbpererr2</th>\n",
       "      <th>pl_orbperlim</th>\n",
       "      <th>pl_orbpern</th>\n",
       "      <th>pl_orbsmax</th>\n",
       "      <th>pl_orbsmaxerr1</th>\n",
       "      <th>pl_orbsmaxerr2</th>\n",
       "      <th>pl_orbsmaxlim</th>\n",
       "      <th>pl_orbsmaxn</th>\n",
       "      <th>pl_orbeccen</th>\n",
       "      <th>pl_orbeccenerr1</th>\n",
       "      <th>pl_orbeccenerr2</th>\n",
       "      <th>pl_orbeccenlim</th>\n",
       "      <th>pl_orbeccenn</th>\n",
       "      <th>pl_orbincl</th>\n",
       "      <th>pl_orbinclerr1</th>\n",
       "      <th>pl_orbinclerr2</th>\n",
       "      <th>pl_orbincllim</th>\n",
       "      <th>pl_orbincln</th>\n",
       "      <th>pl_bmassj</th>\n",
       "      <th>pl_bmassjerr1</th>\n",
       "      <th>pl_bmassjerr2</th>\n",
       "      <th>pl_bmassjlim</th>\n",
       "      <th>pl_bmassn</th>\n",
       "      <th>pl_radj</th>\n",
       "      <th>pl_radjerr1</th>\n",
       "      <th>pl_radjerr2</th>\n",
       "      <th>pl_radjlim</th>\n",
       "      <th>pl_radn</th>\n",
       "      <th>pl_dens</th>\n",
       "      <th>pl_denserr1</th>\n",
       "      <th>pl_denserr2</th>\n",
       "      <th>pl_denslim</th>\n",
       "      <th>pl_densn</th>\n",
       "      <th>pl_ttvflag</th>\n",
       "      <th>pl_kepflag</th>\n",
       "      <th>pl_k2flag</th>\n",
       "      <th>ra</th>\n",
       "      <th>st_raerr</th>\n",
       "      <th>dec</th>\n",
       "      <th>st_decerr</th>\n",
       "      <th>st_posn</th>\n",
       "      <th>st_dist</th>\n",
       "      <th>st_disterr1</th>\n",
       "      <th>st_disterr2</th>\n",
       "      <th>st_distlim</th>\n",
       "      <th>st_distn</th>\n",
       "      <th>st_optmag</th>\n",
       "      <th>st_optmagerr</th>\n",
       "      <th>st_optmaglim</th>\n",
       "      <th>gaia_gmag</th>\n",
       "      <th>gaia_gmagerr</th>\n",
       "      <th>gaia_gmaglim</th>\n",
       "      <th>st_teff</th>\n",
       "      <th>st_tefferr1</th>\n",
       "      <th>st_tefferr2</th>\n",
       "      <th>st_tefflim</th>\n",
       "      <th>st_teffn</th>\n",
       "      <th>st_mass</th>\n",
       "      <th>st_masserr1</th>\n",
       "      <th>st_masserr2</th>\n",
       "      <th>st_masslim</th>\n",
       "      <th>st_massn</th>\n",
       "      <th>st_rad</th>\n",
       "      <th>st_raderr1</th>\n",
       "      <th>st_raderr2</th>\n",
       "      <th>st_radlim</th>\n",
       "      <th>st_radn</th>\n",
       "      <th>pl_nnotes</th>\n",
       "    </tr>\n",
       "  </thead>\n",
       "  <tbody>\n",
       "    <tr>\n",
       "      <th>count</th>\n",
       "      <td>4116.000000</td>\n",
       "      <td>4116.000000</td>\n",
       "      <td>3.996000e+03</td>\n",
       "      <td>3.865000e+03</td>\n",
       "      <td>3.865000e+03</td>\n",
       "      <td>4042.000000</td>\n",
       "      <td>4116.000000</td>\n",
       "      <td>2436.00000</td>\n",
       "      <td>1627.000000</td>\n",
       "      <td>1626.000000</td>\n",
       "      <td>2607.000000</td>\n",
       "      <td>4116.000000</td>\n",
       "      <td>1434.000000</td>\n",
       "      <td>999.000000</td>\n",
       "      <td>999.000000</td>\n",
       "      <td>1716.000000</td>\n",
       "      <td>4116.000000</td>\n",
       "      <td>880.000000</td>\n",
       "      <td>839.000000</td>\n",
       "      <td>841.000000</td>\n",
       "      <td>1533.000000</td>\n",
       "      <td>4116.000000</td>\n",
       "      <td>1666.000000</td>\n",
       "      <td>1524.000000</td>\n",
       "      <td>1524.000000</td>\n",
       "      <td>1916.000000</td>\n",
       "      <td>4116.000000</td>\n",
       "      <td>3162.000000</td>\n",
       "      <td>3129.000000</td>\n",
       "      <td>3129.000000</td>\n",
       "      <td>3638.000000</td>\n",
       "      <td>4116.000000</td>\n",
       "      <td>493.000000</td>\n",
       "      <td>475.000000</td>\n",
       "      <td>475.000000</td>\n",
       "      <td>1388.000000</td>\n",
       "      <td>4116.000000</td>\n",
       "      <td>4116.000000</td>\n",
       "      <td>4116.000000</td>\n",
       "      <td>4116.000000</td>\n",
       "      <td>4116.000000</td>\n",
       "      <td>3992.000000</td>\n",
       "      <td>4116.000000</td>\n",
       "      <td>3992.000000</td>\n",
       "      <td>4116.000000</td>\n",
       "      <td>4110.000000</td>\n",
       "      <td>4034.000000</td>\n",
       "      <td>4034.000000</td>\n",
       "      <td>4110.0</td>\n",
       "      <td>4116.000000</td>\n",
       "      <td>3916.000000</td>\n",
       "      <td>979.000000</td>\n",
       "      <td>3916.0</td>\n",
       "      <td>3961.000000</td>\n",
       "      <td>0.0</td>\n",
       "      <td>3961.0</td>\n",
       "      <td>3883.000000</td>\n",
       "      <td>3706.000000</td>\n",
       "      <td>3679.000000</td>\n",
       "      <td>4003.000000</td>\n",
       "      <td>4116.000000</td>\n",
       "      <td>3350.000000</td>\n",
       "      <td>3109.000000</td>\n",
       "      <td>3083.000000</td>\n",
       "      <td>3357.0</td>\n",
       "      <td>4116.000000</td>\n",
       "      <td>3755.000000</td>\n",
       "      <td>3628.000000</td>\n",
       "      <td>3603.000000</td>\n",
       "      <td>3913.0</td>\n",
       "      <td>4116.000000</td>\n",
       "      <td>4116.000000</td>\n",
       "    </tr>\n",
       "    <tr>\n",
       "      <th>mean</th>\n",
       "      <td>0.004373</td>\n",
       "      <td>1.775996</td>\n",
       "      <td>2.301087e+03</td>\n",
       "      <td>1.034078e+03</td>\n",
       "      <td>-1.061237e+03</td>\n",
       "      <td>-0.000495</td>\n",
       "      <td>2.766278</td>\n",
       "      <td>9.15170</td>\n",
       "      <td>0.450174</td>\n",
       "      <td>-0.452073</td>\n",
       "      <td>-0.000384</td>\n",
       "      <td>1.061953</td>\n",
       "      <td>0.160573</td>\n",
       "      <td>0.066256</td>\n",
       "      <td>-0.054695</td>\n",
       "      <td>0.062937</td>\n",
       "      <td>0.758503</td>\n",
       "      <td>86.197260</td>\n",
       "      <td>1.018386</td>\n",
       "      <td>-1.068170</td>\n",
       "      <td>-0.001957</td>\n",
       "      <td>0.495141</td>\n",
       "      <td>2.516171</td>\n",
       "      <td>0.604849</td>\n",
       "      <td>-0.476574</td>\n",
       "      <td>0.034447</td>\n",
       "      <td>0.928328</td>\n",
       "      <td>0.377628</td>\n",
       "      <td>0.055235</td>\n",
       "      <td>-0.043017</td>\n",
       "      <td>-0.000550</td>\n",
       "      <td>1.976433</td>\n",
       "      <td>2.555653</td>\n",
       "      <td>0.754806</td>\n",
       "      <td>-0.688124</td>\n",
       "      <td>0.008646</td>\n",
       "      <td>0.328717</td>\n",
       "      <td>0.074830</td>\n",
       "      <td>0.572400</td>\n",
       "      <td>0.103741</td>\n",
       "      <td>244.048243</td>\n",
       "      <td>0.000013</td>\n",
       "      <td>22.894763</td>\n",
       "      <td>0.000012</td>\n",
       "      <td>1.881924</td>\n",
       "      <td>633.332504</td>\n",
       "      <td>76.404435</td>\n",
       "      <td>-57.539137</td>\n",
       "      <td>0.0</td>\n",
       "      <td>2.755102</td>\n",
       "      <td>12.675046</td>\n",
       "      <td>0.047286</td>\n",
       "      <td>0.0</td>\n",
       "      <td>12.568770</td>\n",
       "      <td>NaN</td>\n",
       "      <td>0.0</td>\n",
       "      <td>5492.019591</td>\n",
       "      <td>100.038972</td>\n",
       "      <td>-102.036080</td>\n",
       "      <td>0.000250</td>\n",
       "      <td>4.608115</td>\n",
       "      <td>1.002830</td>\n",
       "      <td>0.148527</td>\n",
       "      <td>-0.144288</td>\n",
       "      <td>0.0</td>\n",
       "      <td>2.384597</td>\n",
       "      <td>1.541686</td>\n",
       "      <td>0.269821</td>\n",
       "      <td>-0.213472</td>\n",
       "      <td>0.0</td>\n",
       "      <td>4.412536</td>\n",
       "      <td>0.632896</td>\n",
       "    </tr>\n",
       "    <tr>\n",
       "      <th>std</th>\n",
       "      <td>0.065993</td>\n",
       "      <td>1.157727</td>\n",
       "      <td>1.158522e+05</td>\n",
       "      <td>5.878678e+04</td>\n",
       "      <td>5.898431e+04</td>\n",
       "      <td>0.038530</td>\n",
       "      <td>1.659404</td>\n",
       "      <td>121.42603</td>\n",
       "      <td>5.661248</td>\n",
       "      <td>5.927361</td>\n",
       "      <td>0.019585</td>\n",
       "      <td>1.240586</td>\n",
       "      <td>0.187565</td>\n",
       "      <td>0.061647</td>\n",
       "      <td>0.049653</td>\n",
       "      <td>0.263640</td>\n",
       "      <td>1.271613</td>\n",
       "      <td>8.461919</td>\n",
       "      <td>2.970361</td>\n",
       "      <td>2.099108</td>\n",
       "      <td>0.057095</td>\n",
       "      <td>1.192005</td>\n",
       "      <td>4.442608</td>\n",
       "      <td>3.383309</td>\n",
       "      <td>2.433623</td>\n",
       "      <td>0.209097</td>\n",
       "      <td>1.529448</td>\n",
       "      <td>0.428670</td>\n",
       "      <td>0.178284</td>\n",
       "      <td>0.125009</td>\n",
       "      <td>0.033159</td>\n",
       "      <td>1.652180</td>\n",
       "      <td>5.165662</td>\n",
       "      <td>2.786804</td>\n",
       "      <td>2.753813</td>\n",
       "      <td>0.107056</td>\n",
       "      <td>0.922810</td>\n",
       "      <td>0.263149</td>\n",
       "      <td>0.494791</td>\n",
       "      <td>0.304962</td>\n",
       "      <td>86.813465</td>\n",
       "      <td>0.000009</td>\n",
       "      <td>32.882212</td>\n",
       "      <td>0.000008</td>\n",
       "      <td>0.625621</td>\n",
       "      <td>830.810070</td>\n",
       "      <td>183.094056</td>\n",
       "      <td>179.324265</td>\n",
       "      <td>0.0</td>\n",
       "      <td>0.998071</td>\n",
       "      <td>2.967894</td>\n",
       "      <td>0.065786</td>\n",
       "      <td>0.0</td>\n",
       "      <td>2.992538</td>\n",
       "      <td>NaN</td>\n",
       "      <td>0.0</td>\n",
       "      <td>1763.442572</td>\n",
       "      <td>63.387549</td>\n",
       "      <td>76.084484</td>\n",
       "      <td>0.015805</td>\n",
       "      <td>2.001390</td>\n",
       "      <td>0.649487</td>\n",
       "      <td>1.874089</td>\n",
       "      <td>1.881828</td>\n",
       "      <td>0.0</td>\n",
       "      <td>1.865996</td>\n",
       "      <td>3.695774</td>\n",
       "      <td>2.603131</td>\n",
       "      <td>1.950781</td>\n",
       "      <td>0.0</td>\n",
       "      <td>2.139799</td>\n",
       "      <td>0.532379</td>\n",
       "    </tr>\n",
       "    <tr>\n",
       "      <th>min</th>\n",
       "      <td>0.000000</td>\n",
       "      <td>1.000000</td>\n",
       "      <td>9.070629e-02</td>\n",
       "      <td>0.000000e+00</td>\n",
       "      <td>-3.650000e+06</td>\n",
       "      <td>-1.000000</td>\n",
       "      <td>0.000000</td>\n",
       "      <td>0.00440</td>\n",
       "      <td>0.000000</td>\n",
       "      <td>-200.000000</td>\n",
       "      <td>-1.000000</td>\n",
       "      <td>0.000000</td>\n",
       "      <td>0.000000</td>\n",
       "      <td>0.000000</td>\n",
       "      <td>-0.470000</td>\n",
       "      <td>-1.000000</td>\n",
       "      <td>0.000000</td>\n",
       "      <td>7.700000</td>\n",
       "      <td>0.000000</td>\n",
       "      <td>-25.000000</td>\n",
       "      <td>-1.000000</td>\n",
       "      <td>0.000000</td>\n",
       "      <td>0.000060</td>\n",
       "      <td>0.000000</td>\n",
       "      <td>-78.550000</td>\n",
       "      <td>-1.000000</td>\n",
       "      <td>0.000000</td>\n",
       "      <td>0.030000</td>\n",
       "      <td>0.000000</td>\n",
       "      <td>-4.870000</td>\n",
       "      <td>-1.000000</td>\n",
       "      <td>0.000000</td>\n",
       "      <td>0.030000</td>\n",
       "      <td>0.009000</td>\n",
       "      <td>-55.000000</td>\n",
       "      <td>-1.000000</td>\n",
       "      <td>0.000000</td>\n",
       "      <td>0.000000</td>\n",
       "      <td>0.000000</td>\n",
       "      <td>0.000000</td>\n",
       "      <td>0.325750</td>\n",
       "      <td>0.000000</td>\n",
       "      <td>-84.231613</td>\n",
       "      <td>0.000000</td>\n",
       "      <td>1.000000</td>\n",
       "      <td>1.300000</td>\n",
       "      <td>0.000000</td>\n",
       "      <td>-2190.000000</td>\n",
       "      <td>0.0</td>\n",
       "      <td>0.000000</td>\n",
       "      <td>0.850000</td>\n",
       "      <td>0.000000</td>\n",
       "      <td>0.0</td>\n",
       "      <td>2.804000</td>\n",
       "      <td>NaN</td>\n",
       "      <td>0.0</td>\n",
       "      <td>575.000000</td>\n",
       "      <td>3.000000</td>\n",
       "      <td>-2360.240000</td>\n",
       "      <td>0.000000</td>\n",
       "      <td>0.000000</td>\n",
       "      <td>0.010000</td>\n",
       "      <td>0.000000</td>\n",
       "      <td>-97.100000</td>\n",
       "      <td>0.0</td>\n",
       "      <td>0.000000</td>\n",
       "      <td>0.010000</td>\n",
       "      <td>0.000000</td>\n",
       "      <td>-73.630000</td>\n",
       "      <td>0.0</td>\n",
       "      <td>0.000000</td>\n",
       "      <td>0.000000</td>\n",
       "    </tr>\n",
       "    <tr>\n",
       "      <th>25%</th>\n",
       "      <td>0.000000</td>\n",
       "      <td>1.000000</td>\n",
       "      <td>4.487088e+00</td>\n",
       "      <td>1.600000e-05</td>\n",
       "      <td>-1.271000e-03</td>\n",
       "      <td>0.000000</td>\n",
       "      <td>2.000000</td>\n",
       "      <td>0.05700</td>\n",
       "      <td>0.000810</td>\n",
       "      <td>-0.040000</td>\n",
       "      <td>0.000000</td>\n",
       "      <td>0.000000</td>\n",
       "      <td>0.015000</td>\n",
       "      <td>0.020000</td>\n",
       "      <td>-0.080000</td>\n",
       "      <td>0.000000</td>\n",
       "      <td>0.000000</td>\n",
       "      <td>86.065000</td>\n",
       "      <td>0.200000</td>\n",
       "      <td>-1.000000</td>\n",
       "      <td>0.000000</td>\n",
       "      <td>0.000000</td>\n",
       "      <td>0.081515</td>\n",
       "      <td>0.014000</td>\n",
       "      <td>-0.250000</td>\n",
       "      <td>0.000000</td>\n",
       "      <td>0.000000</td>\n",
       "      <td>0.140000</td>\n",
       "      <td>0.013000</td>\n",
       "      <td>-0.047000</td>\n",
       "      <td>0.000000</td>\n",
       "      <td>1.000000</td>\n",
       "      <td>0.411000</td>\n",
       "      <td>0.070500</td>\n",
       "      <td>-0.570000</td>\n",
       "      <td>0.000000</td>\n",
       "      <td>0.000000</td>\n",
       "      <td>0.000000</td>\n",
       "      <td>0.000000</td>\n",
       "      <td>0.000000</td>\n",
       "      <td>204.566112</td>\n",
       "      <td>0.000002</td>\n",
       "      <td>-0.079149</td>\n",
       "      <td>0.000002</td>\n",
       "      <td>2.000000</td>\n",
       "      <td>152.237500</td>\n",
       "      <td>1.590000</td>\n",
       "      <td>-51.097500</td>\n",
       "      <td>0.0</td>\n",
       "      <td>2.000000</td>\n",
       "      <td>11.390000</td>\n",
       "      <td>0.011000</td>\n",
       "      <td>0.0</td>\n",
       "      <td>11.226000</td>\n",
       "      <td>NaN</td>\n",
       "      <td>0.0</td>\n",
       "      <td>5020.000000</td>\n",
       "      <td>58.652500</td>\n",
       "      <td>-126.815000</td>\n",
       "      <td>0.000000</td>\n",
       "      <td>3.000000</td>\n",
       "      <td>0.810000</td>\n",
       "      <td>0.040000</td>\n",
       "      <td>-0.080000</td>\n",
       "      <td>0.0</td>\n",
       "      <td>1.000000</td>\n",
       "      <td>0.800000</td>\n",
       "      <td>0.030000</td>\n",
       "      <td>-0.150000</td>\n",
       "      <td>0.0</td>\n",
       "      <td>3.000000</td>\n",
       "      <td>0.000000</td>\n",
       "    </tr>\n",
       "    <tr>\n",
       "      <th>50%</th>\n",
       "      <td>0.000000</td>\n",
       "      <td>1.000000</td>\n",
       "      <td>1.184287e+01</td>\n",
       "      <td>9.600000e-05</td>\n",
       "      <td>-9.811000e-05</td>\n",
       "      <td>0.000000</td>\n",
       "      <td>3.000000</td>\n",
       "      <td>0.11800</td>\n",
       "      <td>0.003100</td>\n",
       "      <td>-0.003100</td>\n",
       "      <td>0.000000</td>\n",
       "      <td>1.000000</td>\n",
       "      <td>0.099000</td>\n",
       "      <td>0.050000</td>\n",
       "      <td>-0.040000</td>\n",
       "      <td>0.000000</td>\n",
       "      <td>0.000000</td>\n",
       "      <td>88.095000</td>\n",
       "      <td>0.500000</td>\n",
       "      <td>-0.500000</td>\n",
       "      <td>0.000000</td>\n",
       "      <td>0.000000</td>\n",
       "      <td>0.857000</td>\n",
       "      <td>0.078000</td>\n",
       "      <td>-0.076000</td>\n",
       "      <td>0.000000</td>\n",
       "      <td>0.000000</td>\n",
       "      <td>0.209000</td>\n",
       "      <td>0.029000</td>\n",
       "      <td>-0.022000</td>\n",
       "      <td>0.000000</td>\n",
       "      <td>2.000000</td>\n",
       "      <td>0.994000</td>\n",
       "      <td>0.190000</td>\n",
       "      <td>-0.160000</td>\n",
       "      <td>0.000000</td>\n",
       "      <td>0.000000</td>\n",
       "      <td>0.000000</td>\n",
       "      <td>1.000000</td>\n",
       "      <td>0.000000</td>\n",
       "      <td>287.477543</td>\n",
       "      <td>0.000017</td>\n",
       "      <td>40.784347</td>\n",
       "      <td>0.000017</td>\n",
       "      <td>2.000000</td>\n",
       "      <td>470.000000</td>\n",
       "      <td>13.190000</td>\n",
       "      <td>-13.165000</td>\n",
       "      <td>0.0</td>\n",
       "      <td>3.000000</td>\n",
       "      <td>13.659000</td>\n",
       "      <td>0.026000</td>\n",
       "      <td>0.0</td>\n",
       "      <td>13.538000</td>\n",
       "      <td>NaN</td>\n",
       "      <td>0.0</td>\n",
       "      <td>5600.000000</td>\n",
       "      <td>89.000000</td>\n",
       "      <td>-90.000000</td>\n",
       "      <td>0.000000</td>\n",
       "      <td>5.000000</td>\n",
       "      <td>0.970000</td>\n",
       "      <td>0.050000</td>\n",
       "      <td>-0.050000</td>\n",
       "      <td>0.0</td>\n",
       "      <td>2.000000</td>\n",
       "      <td>0.980000</td>\n",
       "      <td>0.080000</td>\n",
       "      <td>-0.060000</td>\n",
       "      <td>0.0</td>\n",
       "      <td>5.000000</td>\n",
       "      <td>1.000000</td>\n",
       "    </tr>\n",
       "    <tr>\n",
       "      <th>75%</th>\n",
       "      <td>0.000000</td>\n",
       "      <td>2.000000</td>\n",
       "      <td>4.248535e+01</td>\n",
       "      <td>1.278000e-03</td>\n",
       "      <td>-1.600000e-05</td>\n",
       "      <td>0.000000</td>\n",
       "      <td>4.000000</td>\n",
       "      <td>0.69000</td>\n",
       "      <td>0.040000</td>\n",
       "      <td>-0.000870</td>\n",
       "      <td>0.000000</td>\n",
       "      <td>1.000000</td>\n",
       "      <td>0.230000</td>\n",
       "      <td>0.090000</td>\n",
       "      <td>-0.020000</td>\n",
       "      <td>0.000000</td>\n",
       "      <td>1.000000</td>\n",
       "      <td>89.278000</td>\n",
       "      <td>0.975000</td>\n",
       "      <td>-0.200000</td>\n",
       "      <td>0.000000</td>\n",
       "      <td>1.000000</td>\n",
       "      <td>2.537500</td>\n",
       "      <td>0.264000</td>\n",
       "      <td>-0.013975</td>\n",
       "      <td>0.000000</td>\n",
       "      <td>1.000000</td>\n",
       "      <td>0.321000</td>\n",
       "      <td>0.059000</td>\n",
       "      <td>-0.012000</td>\n",
       "      <td>0.000000</td>\n",
       "      <td>3.000000</td>\n",
       "      <td>2.600000</td>\n",
       "      <td>0.730000</td>\n",
       "      <td>-0.070000</td>\n",
       "      <td>0.000000</td>\n",
       "      <td>0.000000</td>\n",
       "      <td>0.000000</td>\n",
       "      <td>1.000000</td>\n",
       "      <td>0.000000</td>\n",
       "      <td>293.833634</td>\n",
       "      <td>0.000019</td>\n",
       "      <td>45.816504</td>\n",
       "      <td>0.000017</td>\n",
       "      <td>2.000000</td>\n",
       "      <td>862.000000</td>\n",
       "      <td>65.797500</td>\n",
       "      <td>-1.582500</td>\n",
       "      <td>0.0</td>\n",
       "      <td>3.000000</td>\n",
       "      <td>14.907000</td>\n",
       "      <td>0.050000</td>\n",
       "      <td>0.0</td>\n",
       "      <td>14.844000</td>\n",
       "      <td>NaN</td>\n",
       "      <td>0.0</td>\n",
       "      <td>5924.000000</td>\n",
       "      <td>120.000000</td>\n",
       "      <td>-58.000000</td>\n",
       "      <td>0.000000</td>\n",
       "      <td>6.000000</td>\n",
       "      <td>1.130000</td>\n",
       "      <td>0.090000</td>\n",
       "      <td>-0.040000</td>\n",
       "      <td>0.0</td>\n",
       "      <td>3.000000</td>\n",
       "      <td>1.260000</td>\n",
       "      <td>0.230000</td>\n",
       "      <td>-0.030000</td>\n",
       "      <td>0.0</td>\n",
       "      <td>6.000000</td>\n",
       "      <td>1.000000</td>\n",
       "    </tr>\n",
       "    <tr>\n",
       "      <th>max</th>\n",
       "      <td>1.000000</td>\n",
       "      <td>8.000000</td>\n",
       "      <td>7.300000e+06</td>\n",
       "      <td>3.650000e+06</td>\n",
       "      <td>-0.000000e+00</td>\n",
       "      <td>1.000000</td>\n",
       "      <td>20.000000</td>\n",
       "      <td>3500.00000</td>\n",
       "      <td>200.000000</td>\n",
       "      <td>0.000000</td>\n",
       "      <td>0.000000</td>\n",
       "      <td>13.000000</td>\n",
       "      <td>0.950000</td>\n",
       "      <td>0.410000</td>\n",
       "      <td>0.000000</td>\n",
       "      <td>1.000000</td>\n",
       "      <td>11.000000</td>\n",
       "      <td>133.000000</td>\n",
       "      <td>56.232000</td>\n",
       "      <td>0.000000</td>\n",
       "      <td>1.000000</td>\n",
       "      <td>17.000000</td>\n",
       "      <td>55.590000</td>\n",
       "      <td>83.790000</td>\n",
       "      <td>0.000000</td>\n",
       "      <td>1.000000</td>\n",
       "      <td>17.000000</td>\n",
       "      <td>6.900000</td>\n",
       "      <td>6.148000</td>\n",
       "      <td>0.000000</td>\n",
       "      <td>1.000000</td>\n",
       "      <td>19.000000</td>\n",
       "      <td>77.700000</td>\n",
       "      <td>55.000000</td>\n",
       "      <td>-0.009000</td>\n",
       "      <td>1.000000</td>\n",
       "      <td>11.000000</td>\n",
       "      <td>1.000000</td>\n",
       "      <td>1.000000</td>\n",
       "      <td>1.000000</td>\n",
       "      <td>359.974304</td>\n",
       "      <td>0.000100</td>\n",
       "      <td>85.736153</td>\n",
       "      <td>0.000094</td>\n",
       "      <td>6.000000</td>\n",
       "      <td>8500.000000</td>\n",
       "      <td>2180.000000</td>\n",
       "      <td>-0.000000</td>\n",
       "      <td>0.0</td>\n",
       "      <td>8.000000</td>\n",
       "      <td>20.150000</td>\n",
       "      <td>0.600000</td>\n",
       "      <td>0.0</td>\n",
       "      <td>20.480000</td>\n",
       "      <td>NaN</td>\n",
       "      <td>0.0</td>\n",
       "      <td>57000.000000</td>\n",
       "      <td>724.330000</td>\n",
       "      <td>-3.000000</td>\n",
       "      <td>1.000000</td>\n",
       "      <td>19.000000</td>\n",
       "      <td>23.560000</td>\n",
       "      <td>97.100000</td>\n",
       "      <td>-0.000000</td>\n",
       "      <td>0.0</td>\n",
       "      <td>17.000000</td>\n",
       "      <td>71.230000</td>\n",
       "      <td>104.530000</td>\n",
       "      <td>-0.000000</td>\n",
       "      <td>0.0</td>\n",
       "      <td>21.000000</td>\n",
       "      <td>4.000000</td>\n",
       "    </tr>\n",
       "  </tbody>\n",
       "</table>\n",
       "</div>"
      ],
      "text/plain": [
       "       pl_controvflag      pl_pnum     pl_orbper  pl_orbpererr1  \\\n",
       "count     4116.000000  4116.000000  3.996000e+03   3.865000e+03   \n",
       "mean         0.004373     1.775996  2.301087e+03   1.034078e+03   \n",
       "std          0.065993     1.157727  1.158522e+05   5.878678e+04   \n",
       "min          0.000000     1.000000  9.070629e-02   0.000000e+00   \n",
       "25%          0.000000     1.000000  4.487088e+00   1.600000e-05   \n",
       "50%          0.000000     1.000000  1.184287e+01   9.600000e-05   \n",
       "75%          0.000000     2.000000  4.248535e+01   1.278000e-03   \n",
       "max          1.000000     8.000000  7.300000e+06   3.650000e+06   \n",
       "\n",
       "       pl_orbpererr2  pl_orbperlim   pl_orbpern  pl_orbsmax  pl_orbsmaxerr1  \\\n",
       "count   3.865000e+03   4042.000000  4116.000000  2436.00000     1627.000000   \n",
       "mean   -1.061237e+03     -0.000495     2.766278     9.15170        0.450174   \n",
       "std     5.898431e+04      0.038530     1.659404   121.42603        5.661248   \n",
       "min    -3.650000e+06     -1.000000     0.000000     0.00440        0.000000   \n",
       "25%    -1.271000e-03      0.000000     2.000000     0.05700        0.000810   \n",
       "50%    -9.811000e-05      0.000000     3.000000     0.11800        0.003100   \n",
       "75%    -1.600000e-05      0.000000     4.000000     0.69000        0.040000   \n",
       "max    -0.000000e+00      1.000000    20.000000  3500.00000      200.000000   \n",
       "\n",
       "       pl_orbsmaxerr2  pl_orbsmaxlim  pl_orbsmaxn  pl_orbeccen  \\\n",
       "count     1626.000000    2607.000000  4116.000000  1434.000000   \n",
       "mean        -0.452073      -0.000384     1.061953     0.160573   \n",
       "std          5.927361       0.019585     1.240586     0.187565   \n",
       "min       -200.000000      -1.000000     0.000000     0.000000   \n",
       "25%         -0.040000       0.000000     0.000000     0.015000   \n",
       "50%         -0.003100       0.000000     1.000000     0.099000   \n",
       "75%         -0.000870       0.000000     1.000000     0.230000   \n",
       "max          0.000000       0.000000    13.000000     0.950000   \n",
       "\n",
       "       pl_orbeccenerr1  pl_orbeccenerr2  pl_orbeccenlim  pl_orbeccenn  \\\n",
       "count       999.000000       999.000000     1716.000000   4116.000000   \n",
       "mean          0.066256        -0.054695        0.062937      0.758503   \n",
       "std           0.061647         0.049653        0.263640      1.271613   \n",
       "min           0.000000        -0.470000       -1.000000      0.000000   \n",
       "25%           0.020000        -0.080000        0.000000      0.000000   \n",
       "50%           0.050000        -0.040000        0.000000      0.000000   \n",
       "75%           0.090000        -0.020000        0.000000      1.000000   \n",
       "max           0.410000         0.000000        1.000000     11.000000   \n",
       "\n",
       "       pl_orbincl  pl_orbinclerr1  pl_orbinclerr2  pl_orbincllim  pl_orbincln  \\\n",
       "count  880.000000      839.000000      841.000000    1533.000000  4116.000000   \n",
       "mean    86.197260        1.018386       -1.068170      -0.001957     0.495141   \n",
       "std      8.461919        2.970361        2.099108       0.057095     1.192005   \n",
       "min      7.700000        0.000000      -25.000000      -1.000000     0.000000   \n",
       "25%     86.065000        0.200000       -1.000000       0.000000     0.000000   \n",
       "50%     88.095000        0.500000       -0.500000       0.000000     0.000000   \n",
       "75%     89.278000        0.975000       -0.200000       0.000000     1.000000   \n",
       "max    133.000000       56.232000        0.000000       1.000000    17.000000   \n",
       "\n",
       "         pl_bmassj  pl_bmassjerr1  pl_bmassjerr2  pl_bmassjlim    pl_bmassn  \\\n",
       "count  1666.000000    1524.000000    1524.000000   1916.000000  4116.000000   \n",
       "mean      2.516171       0.604849      -0.476574      0.034447     0.928328   \n",
       "std       4.442608       3.383309       2.433623      0.209097     1.529448   \n",
       "min       0.000060       0.000000     -78.550000     -1.000000     0.000000   \n",
       "25%       0.081515       0.014000      -0.250000      0.000000     0.000000   \n",
       "50%       0.857000       0.078000      -0.076000      0.000000     0.000000   \n",
       "75%       2.537500       0.264000      -0.013975      0.000000     1.000000   \n",
       "max      55.590000      83.790000       0.000000      1.000000    17.000000   \n",
       "\n",
       "           pl_radj  pl_radjerr1  pl_radjerr2   pl_radjlim      pl_radn  \\\n",
       "count  3162.000000  3129.000000  3129.000000  3638.000000  4116.000000   \n",
       "mean      0.377628     0.055235    -0.043017    -0.000550     1.976433   \n",
       "std       0.428670     0.178284     0.125009     0.033159     1.652180   \n",
       "min       0.030000     0.000000    -4.870000    -1.000000     0.000000   \n",
       "25%       0.140000     0.013000    -0.047000     0.000000     1.000000   \n",
       "50%       0.209000     0.029000    -0.022000     0.000000     2.000000   \n",
       "75%       0.321000     0.059000    -0.012000     0.000000     3.000000   \n",
       "max       6.900000     6.148000     0.000000     1.000000    19.000000   \n",
       "\n",
       "          pl_dens  pl_denserr1  pl_denserr2   pl_denslim     pl_densn  \\\n",
       "count  493.000000   475.000000   475.000000  1388.000000  4116.000000   \n",
       "mean     2.555653     0.754806    -0.688124     0.008646     0.328717   \n",
       "std      5.165662     2.786804     2.753813     0.107056     0.922810   \n",
       "min      0.030000     0.009000   -55.000000    -1.000000     0.000000   \n",
       "25%      0.411000     0.070500    -0.570000     0.000000     0.000000   \n",
       "50%      0.994000     0.190000    -0.160000     0.000000     0.000000   \n",
       "75%      2.600000     0.730000    -0.070000     0.000000     0.000000   \n",
       "max     77.700000    55.000000    -0.009000     1.000000    11.000000   \n",
       "\n",
       "        pl_ttvflag   pl_kepflag    pl_k2flag           ra     st_raerr  \\\n",
       "count  4116.000000  4116.000000  4116.000000  4116.000000  3992.000000   \n",
       "mean      0.074830     0.572400     0.103741   244.048243     0.000013   \n",
       "std       0.263149     0.494791     0.304962    86.813465     0.000009   \n",
       "min       0.000000     0.000000     0.000000     0.325750     0.000000   \n",
       "25%       0.000000     0.000000     0.000000   204.566112     0.000002   \n",
       "50%       0.000000     1.000000     0.000000   287.477543     0.000017   \n",
       "75%       0.000000     1.000000     0.000000   293.833634     0.000019   \n",
       "max       1.000000     1.000000     1.000000   359.974304     0.000100   \n",
       "\n",
       "               dec    st_decerr      st_posn      st_dist  st_disterr1  \\\n",
       "count  4116.000000  3992.000000  4116.000000  4110.000000  4034.000000   \n",
       "mean     22.894763     0.000012     1.881924   633.332504    76.404435   \n",
       "std      32.882212     0.000008     0.625621   830.810070   183.094056   \n",
       "min     -84.231613     0.000000     1.000000     1.300000     0.000000   \n",
       "25%      -0.079149     0.000002     2.000000   152.237500     1.590000   \n",
       "50%      40.784347     0.000017     2.000000   470.000000    13.190000   \n",
       "75%      45.816504     0.000017     2.000000   862.000000    65.797500   \n",
       "max      85.736153     0.000094     6.000000  8500.000000  2180.000000   \n",
       "\n",
       "       st_disterr2  st_distlim     st_distn    st_optmag  st_optmagerr  \\\n",
       "count  4034.000000      4110.0  4116.000000  3916.000000    979.000000   \n",
       "mean    -57.539137         0.0     2.755102    12.675046      0.047286   \n",
       "std     179.324265         0.0     0.998071     2.967894      0.065786   \n",
       "min   -2190.000000         0.0     0.000000     0.850000      0.000000   \n",
       "25%     -51.097500         0.0     2.000000    11.390000      0.011000   \n",
       "50%     -13.165000         0.0     3.000000    13.659000      0.026000   \n",
       "75%      -1.582500         0.0     3.000000    14.907000      0.050000   \n",
       "max      -0.000000         0.0     8.000000    20.150000      0.600000   \n",
       "\n",
       "       st_optmaglim    gaia_gmag  gaia_gmagerr  gaia_gmaglim       st_teff  \\\n",
       "count        3916.0  3961.000000           0.0        3961.0   3883.000000   \n",
       "mean            0.0    12.568770           NaN           0.0   5492.019591   \n",
       "std             0.0     2.992538           NaN           0.0   1763.442572   \n",
       "min             0.0     2.804000           NaN           0.0    575.000000   \n",
       "25%             0.0    11.226000           NaN           0.0   5020.000000   \n",
       "50%             0.0    13.538000           NaN           0.0   5600.000000   \n",
       "75%             0.0    14.844000           NaN           0.0   5924.000000   \n",
       "max             0.0    20.480000           NaN           0.0  57000.000000   \n",
       "\n",
       "       st_tefferr1  st_tefferr2   st_tefflim     st_teffn      st_mass  \\\n",
       "count  3706.000000  3679.000000  4003.000000  4116.000000  3350.000000   \n",
       "mean    100.038972  -102.036080     0.000250     4.608115     1.002830   \n",
       "std      63.387549    76.084484     0.015805     2.001390     0.649487   \n",
       "min       3.000000 -2360.240000     0.000000     0.000000     0.010000   \n",
       "25%      58.652500  -126.815000     0.000000     3.000000     0.810000   \n",
       "50%      89.000000   -90.000000     0.000000     5.000000     0.970000   \n",
       "75%     120.000000   -58.000000     0.000000     6.000000     1.130000   \n",
       "max     724.330000    -3.000000     1.000000    19.000000    23.560000   \n",
       "\n",
       "       st_masserr1  st_masserr2  st_masslim     st_massn       st_rad  \\\n",
       "count  3109.000000  3083.000000      3357.0  4116.000000  3755.000000   \n",
       "mean      0.148527    -0.144288         0.0     2.384597     1.541686   \n",
       "std       1.874089     1.881828         0.0     1.865996     3.695774   \n",
       "min       0.000000   -97.100000         0.0     0.000000     0.010000   \n",
       "25%       0.040000    -0.080000         0.0     1.000000     0.800000   \n",
       "50%       0.050000    -0.050000         0.0     2.000000     0.980000   \n",
       "75%       0.090000    -0.040000         0.0     3.000000     1.260000   \n",
       "max      97.100000    -0.000000         0.0    17.000000    71.230000   \n",
       "\n",
       "        st_raderr1   st_raderr2  st_radlim      st_radn    pl_nnotes  \n",
       "count  3628.000000  3603.000000     3913.0  4116.000000  4116.000000  \n",
       "mean      0.269821    -0.213472        0.0     4.412536     0.632896  \n",
       "std       2.603131     1.950781        0.0     2.139799     0.532379  \n",
       "min       0.000000   -73.630000        0.0     0.000000     0.000000  \n",
       "25%       0.030000    -0.150000        0.0     3.000000     0.000000  \n",
       "50%       0.080000    -0.060000        0.0     5.000000     1.000000  \n",
       "75%       0.230000    -0.030000        0.0     6.000000     1.000000  \n",
       "max     104.530000    -0.000000        0.0    21.000000     4.000000  "
      ]
     },
     "execution_count": 5,
     "metadata": {},
     "output_type": "execute_result"
    }
   ],
   "source": [
    "df.describe()"
   ]
  },
  {
   "cell_type": "markdown",
   "metadata": {},
   "source": [
    "## Лучше всего заполнены данные:\n",
    "1. pl_orbper - Кол-во дней оборота вокруг звезды\n",
    "2. pl_radj - Радиус планеты\n",
    "3. ra - Прямое восхождение\n",
    "4. dec - Склонение\n",
    "5. st_dist - Расстояние до планетной системы в парсеках\n",
    "6. st_optmag - Яркость звезды\n",
    "7. st_teff - Температура звезды\n",
    "8. st_mass - Звездная масса\n",
    "9. st_rad - Радиус звезды\n",
    "\n",
    "#### Изучим данные в них:\n",
    "Построим гистрограммы этих параметров:"
   ]
  },
  {
   "cell_type": "code",
   "execution_count": 6,
   "metadata": {},
   "outputs": [],
   "source": [
    "columnes = {'pl_orbper': 'Кол-во дней оборота вокруг звезды', \n",
    "            'pl_radj': 'Радиус планеты', \n",
    "            'ra': 'Прямое восхождение', \n",
    "            'dec': 'Склонение', \n",
    "            'st_dist': 'Расстояние до планетной системы в парсеках', \n",
    "            'st_optmag': 'Яркость звезды', \n",
    "            'st_teff': 'Температура звезды', \n",
    "            'st_mass': 'Звездная масса', \n",
    "            'st_rad': 'Радиус звезды',\n",
    "            }"
   ]
  },
  {
   "cell_type": "code",
   "execution_count": 7,
   "metadata": {},
   "outputs": [
    {
     "data": {
      "image/png": "[encoded data removed]",
      "text/plain": [
       "<Figure size 1080x1080 with 9 Axes>"
      ]
     },
     "metadata": {
      "needs_background": "light"
     },
     "output_type": "display_data"
    }
   ],
   "source": [
    "fig, ax = plt.subplots(nrows=3, ncols=3)\n",
    "fig.set_size_inches(15, 15)\n",
    "axf = ax.flatten()\n",
    "\n",
    "i = 0\n",
    "for col, title in columnes.items():\n",
    "    axf[i].hist(df[col], density=True, bins=25)\n",
    "    axf[i].set_title(title)\n",
    "    i += 1\n",
    "plt.show()"
   ]
  },
  {
   "cell_type": "markdown",
   "metadata": {},
   "source": [
    "Изучим данные по расстоянию до планетной системы в парсеках:"
   ]
  },
  {
   "cell_type": "code",
   "execution_count": 8,
   "metadata": {},
   "outputs": [
    {
     "data": {
      "text/plain": [
       "<matplotlib.axes._subplots.AxesSubplot at 0x1ca7b804438>"
      ]
     },
     "execution_count": 8,
     "metadata": {},
     "output_type": "execute_result"
    },
    {
     "data": {
      "image/png": "[encoded data removed]",
      "text/plain": [
       "<Figure size 432x288 with 1 Axes>"
      ]
     },
     "metadata": {
      "needs_background": "light"
     },
     "output_type": "display_data"
    }
   ],
   "source": [
    "df[[\"st_dist\"]].boxplot()"
   ]
  },
  {
   "cell_type": "code",
   "execution_count": 9,
   "metadata": {},
   "outputs": [
    {
     "data": {
      "text/plain": [
       "(-912.4062500000002, 1926.6437500000002)"
      ]
     },
     "execution_count": 9,
     "metadata": {},
     "output_type": "execute_result"
    }
   ],
   "source": [
    "q1 = df['st_dist'].quantile(0.25)\n",
    "q3 = df['st_dist'].quantile(0.75)\n",
    "iqr = q3 - q1\n",
    "\n",
    "boxplot_range = (q1 - 1.5 * iqr, q3 + 1.5 * iqr)\n",
    "boxplot_range"
   ]
  },
  {
   "cell_type": "code",
   "execution_count": 10,
   "metadata": {},
   "outputs": [],
   "source": [
    "outliers = df.loc[(df['st_dist'] < boxplot_range[0]) | (df['st_dist'] > boxplot_range[1])]\n",
    "df2 = df.loc[(df['st_dist'] > boxplot_range[0]) & (df['st_dist'] < boxplot_range[1])]\n",
    "dist_count = df['st_dist'].count()"
   ]
  },
  {
   "cell_type": "code",
   "execution_count": 11,
   "metadata": {},
   "outputs": [
    {
     "name": "stdout",
     "output_type": "stream",
     "text": [
      "Из 4110 планет всего 103 планеты открыто на расстоянии более 1926.64 парсек от Земли. \n",
      "Можно их посчитать выбросом в нашей выборке по этой характеристике. \n",
      "Доля выбросов: 2.502%\n"
     ]
    }
   ],
   "source": [
    "print(f'Из {dist_count} планет всего {outliers.shape[0]} планеты открыто на расстоянии более {round(boxplot_range[1], 2)} парсек от Земли. \\n\\\n",
    "Можно их посчитать выбросом в нашей выборке по этой характеристике. \\n\\\n",
    "Доля выбросов: {round(outliers.shape[0] / df.shape[0] * 100, 3)}%')"
   ]
  },
  {
   "cell_type": "markdown",
   "metadata": {},
   "source": [
    "Посмотрим на яркость звезды и построим теоретическую функцию плотности::"
   ]
  },
  {
   "cell_type": "code",
   "execution_count": 12,
   "metadata": {},
   "outputs": [],
   "source": [
    "def pdf_normal(loc: float, scale: float, x: float) -> float:\n",
    "    \"\"\"Функция плотности нормального распределения.\n",
    "    \"\"\"\n",
    "    \n",
    "    return np.exp(- ((x - loc) ** 2) / (2 * scale ** 2)) / (scale * np.sqrt(2 * np.pi))"
   ]
  },
  {
   "cell_type": "code",
   "execution_count": 13,
   "metadata": {},
   "outputs": [
    {
     "data": {
      "text/plain": [
       "(12.675046220633316, 2.967893885418491)"
      ]
     },
     "execution_count": 13,
     "metadata": {},
     "output_type": "execute_result"
    }
   ],
   "source": [
    "loc = df['st_optmag'].mean()\n",
    "scale = df['st_optmag'].std(ddof=1)\n",
    "\n",
    "loc, scale"
   ]
  },
  {
   "cell_type": "code",
   "execution_count": 14,
   "metadata": {},
   "outputs": [
    {
     "data": {
      "text/plain": [
       "[<matplotlib.lines.Line2D at 0x1ca7c569dd8>]"
      ]
     },
     "execution_count": 14,
     "metadata": {},
     "output_type": "execute_result"
    },
    {
     "data": {
      "image/png": "[encoded data removed]",
      "text/plain": [
       "<Figure size 432x288 with 1 Axes>"
      ]
     },
     "metadata": {
      "needs_background": "light"
     },
     "output_type": "display_data"
    }
   ],
   "source": [
    "ox = np.linspace(0, 20.5, 1000)\n",
    "oy = np.array([pdf_normal(loc, scale, x) for x in ox])\n",
    "\n",
    "plt.hist(df['st_optmag'], density=True, bins=20)\n",
    "plt.plot(ox, oy)"
   ]
  },
  {
   "cell_type": "markdown",
   "metadata": {},
   "source": [
    "Изучим данные по Температуре звезды:"
   ]
  },
  {
   "cell_type": "code",
   "execution_count": 15,
   "metadata": {},
   "outputs": [
    {
     "data": {
      "text/plain": [
       "<matplotlib.axes._subplots.AxesSubplot at 0x1ca7c028cf8>"
      ]
     },
     "execution_count": 15,
     "metadata": {},
     "output_type": "execute_result"
    },
    {
     "data": {
      "image/png": "[encoded data removed]",
      "text/plain": [
       "<Figure size 432x288 with 1 Axes>"
      ]
     },
     "metadata": {
      "needs_background": "light"
     },
     "output_type": "display_data"
    }
   ],
   "source": [
    "df[[\"st_teff\"]].boxplot()"
   ]
  },
  {
   "cell_type": "code",
   "execution_count": 16,
   "metadata": {},
   "outputs": [
    {
     "data": {
      "text/plain": [
       "(3664.0, 7280.0)"
      ]
     },
     "execution_count": 16,
     "metadata": {},
     "output_type": "execute_result"
    }
   ],
   "source": [
    "q1 = df['st_teff'].quantile(0.25)\n",
    "q3 = df['st_teff'].quantile(0.75)\n",
    "iqr = q3 - q1\n",
    "\n",
    "boxplot_range = (q1 - 1.5 * iqr, q3 + 1.5 * iqr)\n",
    "boxplot_range"
   ]
  },
  {
   "cell_type": "code",
   "execution_count": 17,
   "metadata": {},
   "outputs": [],
   "source": [
    "outliers = df.loc[(df['st_teff'] < boxplot_range[0]) | (df['st_teff'] > boxplot_range[1])]\n",
    "df2 = df.loc[(df['st_teff'] > boxplot_range[0]) & (df['st_teff'] < boxplot_range[1])]\n",
    "t_count = df['st_teff'].count()"
   ]
  },
  {
   "cell_type": "code",
   "execution_count": 18,
   "metadata": {},
   "outputs": [
    {
     "name": "stdout",
     "output_type": "stream",
     "text": [
      "Из 3883 планет всего 192 планеты с яркостью выше 7280.0 или ниже 3664.0. \n",
      "Можно их посчитать выбросом в нашей выборке по этой характеристике. \n",
      "Доля выбросов: 4.665%\n"
     ]
    }
   ],
   "source": [
    "print(f'Из {t_count} планет всего {outliers.shape[0]} планеты с яркостью выше {round(boxplot_range[1], 2)} или ниже {round(boxplot_range[0], 2)}. \\n\\\n",
    "Можно их посчитать выбросом в нашей выборке по этой характеристике. \\n\\\n",
    "Доля выбросов: {round(outliers.shape[0] / df.shape[0] * 100, 3)}%')"
   ]
  },
  {
   "cell_type": "markdown",
   "metadata": {},
   "source": [
    "Построим теоретическую функцию плотности по выборке без выбросов:"
   ]
  },
  {
   "cell_type": "code",
   "execution_count": 19,
   "metadata": {},
   "outputs": [
    {
     "data": {
      "text/plain": [
       "(5490.854871308588, 629.4797845190152)"
      ]
     },
     "execution_count": 19,
     "metadata": {},
     "output_type": "execute_result"
    }
   ],
   "source": [
    "loc = df2['st_teff'].mean()\n",
    "scale = df2['st_teff'].std(ddof=1)\n",
    "\n",
    "loc, scale"
   ]
  },
  {
   "cell_type": "code",
   "execution_count": 20,
   "metadata": {},
   "outputs": [
    {
     "data": {
      "text/plain": [
       "[<matplotlib.lines.Line2D at 0x1ca7c29a9b0>]"
      ]
     },
     "execution_count": 20,
     "metadata": {},
     "output_type": "execute_result"
    },
    {
     "data": {
      "image/png": "[encoded data removed]",
      "text/plain": [
       "<Figure size 432x288 with 1 Axes>"
      ]
     },
     "metadata": {
      "needs_background": "light"
     },
     "output_type": "display_data"
    }
   ],
   "source": [
    "ox = np.linspace(3500, 7300, 100)\n",
    "oy = np.array([pdf_normal(loc, scale, x) for x in ox])\n",
    "\n",
    "plt.hist(df2['st_teff'], density=True, bins=20)\n",
    "plt.plot(ox, oy)"
   ]
  },
  {
   "cell_type": "markdown",
   "metadata": {},
   "source": [
    "#### Проверим полученное распределение температуры звезды на нормальность с помощью критерия Колмогорова-Смирнова:"
   ]
  },
  {
   "cell_type": "code",
   "execution_count": 21,
   "metadata": {},
   "outputs": [
    {
     "data": {
      "text/plain": [
       "(5490.854871308588, 629.4797845190152, 3691)"
      ]
     },
     "execution_count": 21,
     "metadata": {},
     "output_type": "execute_result"
    }
   ],
   "source": [
    "a = df2['st_teff'].mean()\n",
    "sigma = df2['st_teff'].std(ddof=1)\n",
    "\n",
    "n = df2['st_teff'].shape[0]\n",
    "\n",
    "a, sigma, n"
   ]
  },
  {
   "cell_type": "code",
   "execution_count": 22,
   "metadata": {},
   "outputs": [],
   "source": [
    "def edf(x: float) -> float:\n",
    "    \"\"\"Эмпирическая функция распределения веса хоккеистов.\n",
    "    \"\"\"\n",
    "    \n",
    "    samples = df['st_teff']\n",
    "    \n",
    "    return samples[samples < x].shape[0] / samples.shape[0]"
   ]
  },
  {
   "cell_type": "code",
   "execution_count": 23,
   "metadata": {},
   "outputs": [],
   "source": [
    "cdf = stats.norm(loc=a, scale=sigma).cdf"
   ]
  },
  {
   "cell_type": "code",
   "execution_count": 24,
   "metadata": {},
   "outputs": [],
   "source": [
    "ox = np.array(df2['st_teff'])\n",
    "oy = np.array([np.abs(edf(x) - cdf(x)) for x in ox])"
   ]
  },
  {
   "cell_type": "code",
   "execution_count": 25,
   "metadata": {},
   "outputs": [
    {
     "data": {
      "text/plain": [
       "(5593.0, 0.09846663867268862)"
      ]
     },
     "execution_count": 25,
     "metadata": {},
     "output_type": "execute_result"
    }
   ],
   "source": [
    "x_max = 0\n",
    "y_max = 0\n",
    "\n",
    "for x, y in zip(ox, oy):\n",
    "    if y > y_max:\n",
    "        x_max = x\n",
    "        y_max = y\n",
    "        \n",
    "x_max, y_max"
   ]
  },
  {
   "cell_type": "markdown",
   "metadata": {},
   "source": [
    "Найдем критическое значение для $\\alpha = 0.05$ и $n = 3691$ оно равно $0.886 / \\sqrt{n}$:"
   ]
  },
  {
   "cell_type": "code",
   "execution_count": 26,
   "metadata": {},
   "outputs": [
    {
     "data": {
      "text/plain": [
       "0.01458349776068107"
      ]
     },
     "execution_count": 26,
     "metadata": {},
     "output_type": "execute_result"
    }
   ],
   "source": [
    "0.886 / np.sqrt(n)"
   ]
  },
  {
   "cell_type": "markdown",
   "metadata": {},
   "source": [
    "Поскольку полученное значение статистики 0.098 больше критического 0.0146, то __распределение в выборке нельзя считать нормальным__."
   ]
  },
  {
   "cell_type": "markdown",
   "metadata": {},
   "source": [
    "#### Посчитаем коэффициент корреляции Пирсона между выбранными признаками:"
   ]
  },
  {
   "cell_type": "code",
   "execution_count": 27,
   "metadata": {},
   "outputs": [
    {
     "data": {
      "text/html": [
       "<div>\n",
       "<style scoped>\n",
       "    .dataframe tbody tr th:only-of-type {\n",
       "        vertical-align: middle;\n",
       "    }\n",
       "\n",
       "    .dataframe tbody tr th {\n",
       "        vertical-align: top;\n",
       "    }\n",
       "\n",
       "    .dataframe thead th {\n",
       "        text-align: right;\n",
       "    }\n",
       "</style>\n",
       "<table border=\"1\" class=\"dataframe\">\n",
       "  <thead>\n",
       "    <tr style=\"text-align: right;\">\n",
       "      <th></th>\n",
       "      <th>pl_orbper</th>\n",
       "      <th>pl_radj</th>\n",
       "      <th>ra</th>\n",
       "      <th>dec</th>\n",
       "      <th>st_dist</th>\n",
       "      <th>st_optmag</th>\n",
       "      <th>st_teff</th>\n",
       "      <th>st_mass</th>\n",
       "      <th>st_rad</th>\n",
       "    </tr>\n",
       "  </thead>\n",
       "  <tbody>\n",
       "    <tr>\n",
       "      <th>pl_orbper</th>\n",
       "      <td>1.000000</td>\n",
       "      <td>0.062702</td>\n",
       "      <td>0.001027</td>\n",
       "      <td>-0.028007</td>\n",
       "      <td>-0.016649</td>\n",
       "      <td>-0.113364</td>\n",
       "      <td>-0.027340</td>\n",
       "      <td>-0.024978</td>\n",
       "      <td>0.058913</td>\n",
       "    </tr>\n",
       "    <tr>\n",
       "      <th>pl_radj</th>\n",
       "      <td>0.062702</td>\n",
       "      <td>1.000000</td>\n",
       "      <td>-0.326029</td>\n",
       "      <td>-0.458121</td>\n",
       "      <td>-0.066541</td>\n",
       "      <td>-0.336859</td>\n",
       "      <td>0.228074</td>\n",
       "      <td>0.335930</td>\n",
       "      <td>0.394268</td>\n",
       "    </tr>\n",
       "    <tr>\n",
       "      <th>ra</th>\n",
       "      <td>0.001027</td>\n",
       "      <td>-0.326029</td>\n",
       "      <td>1.000000</td>\n",
       "      <td>0.453702</td>\n",
       "      <td>0.252876</td>\n",
       "      <td>0.463492</td>\n",
       "      <td>0.063446</td>\n",
       "      <td>-0.054273</td>\n",
       "      <td>-0.122785</td>\n",
       "    </tr>\n",
       "    <tr>\n",
       "      <th>dec</th>\n",
       "      <td>-0.028007</td>\n",
       "      <td>-0.458121</td>\n",
       "      <td>0.453702</td>\n",
       "      <td>1.000000</td>\n",
       "      <td>0.067371</td>\n",
       "      <td>0.498526</td>\n",
       "      <td>0.036124</td>\n",
       "      <td>0.036964</td>\n",
       "      <td>-0.008073</td>\n",
       "    </tr>\n",
       "    <tr>\n",
       "      <th>st_dist</th>\n",
       "      <td>-0.016649</td>\n",
       "      <td>-0.066541</td>\n",
       "      <td>0.252876</td>\n",
       "      <td>0.067371</td>\n",
       "      <td>1.000000</td>\n",
       "      <td>0.610261</td>\n",
       "      <td>0.217009</td>\n",
       "      <td>-0.063266</td>\n",
       "      <td>-0.023660</td>\n",
       "    </tr>\n",
       "    <tr>\n",
       "      <th>st_optmag</th>\n",
       "      <td>-0.113364</td>\n",
       "      <td>-0.336859</td>\n",
       "      <td>0.463492</td>\n",
       "      <td>0.498526</td>\n",
       "      <td>0.610261</td>\n",
       "      <td>1.000000</td>\n",
       "      <td>-0.032792</td>\n",
       "      <td>-0.234366</td>\n",
       "      <td>-0.349596</td>\n",
       "    </tr>\n",
       "    <tr>\n",
       "      <th>st_teff</th>\n",
       "      <td>-0.027340</td>\n",
       "      <td>0.228074</td>\n",
       "      <td>0.063446</td>\n",
       "      <td>0.036124</td>\n",
       "      <td>0.217009</td>\n",
       "      <td>-0.032792</td>\n",
       "      <td>1.000000</td>\n",
       "      <td>0.111116</td>\n",
       "      <td>-0.077820</td>\n",
       "    </tr>\n",
       "    <tr>\n",
       "      <th>st_mass</th>\n",
       "      <td>-0.024978</td>\n",
       "      <td>0.335930</td>\n",
       "      <td>-0.054273</td>\n",
       "      <td>0.036964</td>\n",
       "      <td>-0.063266</td>\n",
       "      <td>-0.234366</td>\n",
       "      <td>0.111116</td>\n",
       "      <td>1.000000</td>\n",
       "      <td>0.523559</td>\n",
       "    </tr>\n",
       "    <tr>\n",
       "      <th>st_rad</th>\n",
       "      <td>0.058913</td>\n",
       "      <td>0.394268</td>\n",
       "      <td>-0.122785</td>\n",
       "      <td>-0.008073</td>\n",
       "      <td>-0.023660</td>\n",
       "      <td>-0.349596</td>\n",
       "      <td>-0.077820</td>\n",
       "      <td>0.523559</td>\n",
       "      <td>1.000000</td>\n",
       "    </tr>\n",
       "  </tbody>\n",
       "</table>\n",
       "</div>"
      ],
      "text/plain": [
       "           pl_orbper   pl_radj        ra       dec   st_dist  st_optmag  \\\n",
       "pl_orbper   1.000000  0.062702  0.001027 -0.028007 -0.016649  -0.113364   \n",
       "pl_radj     0.062702  1.000000 -0.326029 -0.458121 -0.066541  -0.336859   \n",
       "ra          0.001027 -0.326029  1.000000  0.453702  0.252876   0.463492   \n",
       "dec        -0.028007 -0.458121  0.453702  1.000000  0.067371   0.498526   \n",
       "st_dist    -0.016649 -0.066541  0.252876  0.067371  1.000000   0.610261   \n",
       "st_optmag  -0.113364 -0.336859  0.463492  0.498526  0.610261   1.000000   \n",
       "st_teff    -0.027340  0.228074  0.063446  0.036124  0.217009  -0.032792   \n",
       "st_mass    -0.024978  0.335930 -0.054273  0.036964 -0.063266  -0.234366   \n",
       "st_rad      0.058913  0.394268 -0.122785 -0.008073 -0.023660  -0.349596   \n",
       "\n",
       "            st_teff   st_mass    st_rad  \n",
       "pl_orbper -0.027340 -0.024978  0.058913  \n",
       "pl_radj    0.228074  0.335930  0.394268  \n",
       "ra         0.063446 -0.054273 -0.122785  \n",
       "dec        0.036124  0.036964 -0.008073  \n",
       "st_dist    0.217009 -0.063266 -0.023660  \n",
       "st_optmag -0.032792 -0.234366 -0.349596  \n",
       "st_teff    1.000000  0.111116 -0.077820  \n",
       "st_mass    0.111116  1.000000  0.523559  \n",
       "st_rad    -0.077820  0.523559  1.000000  "
      ]
     },
     "execution_count": 27,
     "metadata": {},
     "output_type": "execute_result"
    }
   ],
   "source": [
    "df[[col for col in columnes.keys()]].corr()"
   ]
  },
  {
   "cell_type": "markdown",
   "metadata": {},
   "source": [
    "Максимальная по модулю корреляция 0.61 наблюдается между признаками __st_dist__ (Расстояние до планетной системы) и __st_optmag__ (Яркость звезды). Очевидно, чем дальше от нас система, тем сложней найти планету на фоне менее яркой звезды.\n",
    "\n",
    "Зависимость явно не линейная, но построим график уравнения линейной регрессии, чтобы убедиться в этом, предварительно очистив данные от пустых значений:"
   ]
  },
  {
   "cell_type": "code",
   "execution_count": 28,
   "metadata": {},
   "outputs": [
    {
     "data": {
      "text/plain": [
       "(3915, 82)"
      ]
     },
     "execution_count": 28,
     "metadata": {},
     "output_type": "execute_result"
    }
   ],
   "source": [
    "df3 = df[df[\"st_optmag\"].notnull()]\n",
    "df3 = df3[df3[\"st_dist\"].notnull()]\n",
    "df3.shape"
   ]
  },
  {
   "cell_type": "code",
   "execution_count": 30,
   "metadata": {},
   "outputs": [
    {
     "data": {
      "text/plain": [
       "Text(0, 0.5, 'Расстояние до системы')"
      ]
     },
     "execution_count": 30,
     "metadata": {},
     "output_type": "execute_result"
    },
    {
     "data": {
      "image/png": "[encoded data removed]",
      "text/plain": [
       "<Figure size 432x288 with 1 Axes>"
      ]
     },
     "metadata": {
      "needs_background": "light"
     },
     "output_type": "display_data"
    }
   ],
   "source": [
    "b1 = df3[['st_optmag', 'st_dist']].cov().iloc[0, 1] / df3['st_optmag'].var(ddof=1)\n",
    "b0 = df3['st_dist'].mean() - b1 * df3['st_optmag'].mean()\n",
    "\n",
    "x = np.array(df3['st_optmag'])\n",
    "y = np.array(df3['st_dist'])\n",
    "z = b0 + b1 * x\n",
    "\n",
    "\n",
    "plt.scatter(df3[[\"st_optmag\"]], df3[[\"st_dist\"]])\n",
    "plt.plot(x, z, color='red', alpha=0.5)\n",
    "\n",
    "plt.xlabel('Яркость звезды')\n",
    "plt.ylabel('Расстояние до системы')"
   ]
  },
  {
   "cell_type": "markdown",
   "metadata": {},
   "source": [
    "Посчитаем коэффициент детерминации для уравнения парной регрессии:"
   ]
  },
  {
   "cell_type": "code",
   "execution_count": 31,
   "metadata": {},
   "outputs": [
    {
     "data": {
      "text/plain": [
       "0.3724182001844859"
      ]
     },
     "execution_count": 31,
     "metadata": {},
     "output_type": "execute_result"
    }
   ],
   "source": [
    "r2 = 1 - (z - y).var() / y.var()\n",
    "r2"
   ]
  },
  {
   "cell_type": "markdown",
   "metadata": {},
   "source": [
    "Коэффициент детерминации низкий, как и ожидалось. Т.о. полученная модель линейной регрессии плохо описывает взаимосвязь этих показателей.\n",
    "\n",
    "Посчитаем среднюю ошибку аппроксимации:"
   ]
  },
  {
   "cell_type": "code",
   "execution_count": 32,
   "metadata": {},
   "outputs": [],
   "source": [
    "def mean_approximation_error(y_real: np.ndarray, y_pred: np.ndarray) -> float:\n",
    "    \"\"\"Средняя ошибка аппроксимации.\n",
    "    \"\"\"\n",
    "    \n",
    "    return np.abs((y_real - y_pred) / y_real).mean()"
   ]
  },
  {
   "cell_type": "code",
   "execution_count": 33,
   "metadata": {},
   "outputs": [
    {
     "data": {
      "text/plain": [
       "2.955916062141368"
      ]
     },
     "execution_count": 33,
     "metadata": {},
     "output_type": "execute_result"
    }
   ],
   "source": [
    "mean_approximation_error(y, z)"
   ]
  },
  {
   "cell_type": "markdown",
   "metadata": {},
   "source": [
    "Ошибка аппроксимации в разы превышает допустимый уровень 8-10%"
   ]
  },
  {
   "cell_type": "markdown",
   "metadata": {},
   "source": [
    "#### Оценим построенное уравнение регрессии с помощью F-критерия Фишера"
   ]
  },
  {
   "cell_type": "code",
   "execution_count": 34,
   "metadata": {},
   "outputs": [
    {
     "data": {
      "text/plain": [
       "2189.1182008216774"
      ]
     },
     "execution_count": 34,
     "metadata": {},
     "output_type": "execute_result"
    }
   ],
   "source": [
    "k1 = 1\n",
    "k2 = n - k1 - 1\n",
    "\n",
    "f1 = (r2 / k1) / ((1 - r2) / k2)\n",
    "f1"
   ]
  },
  {
   "cell_type": "markdown",
   "metadata": {},
   "source": [
    "Для уровня значимости $\\alpha = 0.05$ посчитаем значение $F_{crit}$:"
   ]
  },
  {
   "cell_type": "code",
   "execution_count": 35,
   "metadata": {},
   "outputs": [
    {
     "data": {
      "text/plain": [
       "3.843980820902685"
      ]
     },
     "execution_count": 35,
     "metadata": {},
     "output_type": "execute_result"
    }
   ],
   "source": [
    "alpha = 0.05\n",
    "\n",
    "f_crit = stats.f.ppf(1 - alpha, k1, k2)\n",
    "f_crit"
   ]
  },
  {
   "cell_type": "markdown",
   "metadata": {},
   "source": [
    "Имеем $F > F_{crit}$, поэтому уравнение регрессии статистически значимо."
   ]
  },
  {
   "cell_type": "markdown",
   "metadata": {},
   "source": [
    "#### Построим для коэффициентов регрессии доверительные интервалы с помощью t-статистики Стьюдента"
   ]
  },
  {
   "cell_type": "code",
   "execution_count": 36,
   "metadata": {},
   "outputs": [],
   "source": [
    "def standard_error_slope(\n",
    "        x: np.ndarray,\n",
    "        y: np.ndarray,\n",
    "        z: np.ndarray,\n",
    ") -> float:\n",
    "    \"\"\"Стандартная ошибка коэффициента наклона.\n",
    "    \"\"\"\n",
    "    \n",
    "    n = x.shape[0]\n",
    "    \n",
    "    upper = ((y - z) ** 2).sum() / (n - 2)\n",
    "    lower = ((x - x.mean()) ** 2).sum()\n",
    "    \n",
    "    return np.sqrt(upper / lower)"
   ]
  },
  {
   "cell_type": "code",
   "execution_count": 37,
   "metadata": {},
   "outputs": [
    {
     "data": {
      "text/plain": [
       "2.0960176323359088"
      ]
     },
     "execution_count": 37,
     "metadata": {},
     "output_type": "execute_result"
    }
   ],
   "source": [
    "s_slope = standard_error_slope(x, y, z)\n",
    "s_slope"
   ]
  },
  {
   "cell_type": "markdown",
   "metadata": {},
   "source": [
    "Зададим уровень доверия $p = 0.95$, т.е. $\\alpha = 0.05$"
   ]
  },
  {
   "cell_type": "code",
   "execution_count": 38,
   "metadata": {},
   "outputs": [
    {
     "data": {
      "text/plain": [
       "1.9606070838145286"
      ]
     },
     "execution_count": 38,
     "metadata": {},
     "output_type": "execute_result"
    }
   ],
   "source": [
    "alpha = 0.05\n",
    "\n",
    "t = stats.t.ppf(1 - alpha / 2, df=n-1)\n",
    "t"
   ]
  },
  {
   "cell_type": "markdown",
   "metadata": {},
   "source": [
    "Доверительный интервал для параметра $b_1$:"
   ]
  },
  {
   "cell_type": "code",
   "execution_count": 41,
   "metadata": {},
   "outputs": [
    {
     "data": {
      "text/plain": [
       "101.0020373029339"
      ]
     },
     "metadata": {},
     "output_type": "display_data"
    },
    {
     "data": {
      "text/plain": [
       "(96.89257028517596, 105.11150432069184)"
      ]
     },
     "execution_count": 41,
     "metadata": {},
     "output_type": "execute_result"
    }
   ],
   "source": [
    "display(b1)\n",
    "(b1 - t * s_slope, b1 + t * s_slope)"
   ]
  },
  {
   "cell_type": "markdown",
   "metadata": {},
   "source": [
    "Аналогично для параметра $b_0$:"
   ]
  },
  {
   "cell_type": "code",
   "execution_count": 42,
   "metadata": {},
   "outputs": [],
   "source": [
    "def standard_error_intercept(\n",
    "        x: np.ndarray,\n",
    "        y: np.ndarray,\n",
    "        z: np.ndarray,\n",
    ") -> float:\n",
    "    \"\"\"Стандартная ошибка коэффициента сдвига.\n",
    "    \"\"\"\n",
    "    \n",
    "    return standard_error_slope(x, y, z) * np.sqrt((x ** 2).mean())"
   ]
  },
  {
   "cell_type": "code",
   "execution_count": 43,
   "metadata": {},
   "outputs": [
    {
     "data": {
      "text/plain": [
       "27.284404957633072"
      ]
     },
     "execution_count": 43,
     "metadata": {},
     "output_type": "execute_result"
    }
   ],
   "source": [
    "s_intercept = standard_error_intercept(x, y, z)\n",
    "s_intercept"
   ]
  },
  {
   "cell_type": "markdown",
   "metadata": {},
   "source": [
    "Доверительный интервал для параметра $b_0$:"
   ]
  },
  {
   "cell_type": "code",
   "execution_count": 44,
   "metadata": {},
   "outputs": [
    {
     "data": {
      "text/plain": [
       "-728.8366309136422"
      ]
     },
     "metadata": {},
     "output_type": "display_data"
    },
    {
     "data": {
      "text/plain": [
       "(-782.330628551242, -675.3426332760425)"
      ]
     },
     "execution_count": 44,
     "metadata": {},
     "output_type": "execute_result"
    }
   ],
   "source": [
    "display(b0)\n",
    "(b0 - t * s_intercept, b0 + t * s_intercept)"
   ]
  },
  {
   "cell_type": "markdown",
   "metadata": {},
   "source": [
    "#### Посмотрим на ранговую зависимость между признаками:"
   ]
  },
  {
   "cell_type": "code",
   "execution_count": 45,
   "metadata": {},
   "outputs": [
    {
     "data": {
      "text/html": [
       "<div>\n",
       "<style scoped>\n",
       "    .dataframe tbody tr th:only-of-type {\n",
       "        vertical-align: middle;\n",
       "    }\n",
       "\n",
       "    .dataframe tbody tr th {\n",
       "        vertical-align: top;\n",
       "    }\n",
       "\n",
       "    .dataframe thead th {\n",
       "        text-align: right;\n",
       "    }\n",
       "</style>\n",
       "<table border=\"1\" class=\"dataframe\">\n",
       "  <thead>\n",
       "    <tr style=\"text-align: right;\">\n",
       "      <th></th>\n",
       "      <th>pl_orbper</th>\n",
       "      <th>pl_radj</th>\n",
       "      <th>ra</th>\n",
       "      <th>dec</th>\n",
       "      <th>st_dist</th>\n",
       "      <th>st_optmag</th>\n",
       "      <th>st_teff</th>\n",
       "      <th>st_mass</th>\n",
       "      <th>st_rad</th>\n",
       "    </tr>\n",
       "  </thead>\n",
       "  <tbody>\n",
       "    <tr>\n",
       "      <th>pl_orbper</th>\n",
       "      <td>1.000000</td>\n",
       "      <td>0.078468</td>\n",
       "      <td>-0.051660</td>\n",
       "      <td>-0.030460</td>\n",
       "      <td>-0.100928</td>\n",
       "      <td>-0.179191</td>\n",
       "      <td>-0.024805</td>\n",
       "      <td>0.081636</td>\n",
       "      <td>0.118212</td>\n",
       "    </tr>\n",
       "    <tr>\n",
       "      <th>pl_radj</th>\n",
       "      <td>0.078468</td>\n",
       "      <td>1.000000</td>\n",
       "      <td>-0.071123</td>\n",
       "      <td>-0.182041</td>\n",
       "      <td>0.047246</td>\n",
       "      <td>-0.067319</td>\n",
       "      <td>0.159597</td>\n",
       "      <td>0.232212</td>\n",
       "      <td>0.222583</td>\n",
       "    </tr>\n",
       "    <tr>\n",
       "      <th>ra</th>\n",
       "      <td>-0.051660</td>\n",
       "      <td>-0.071123</td>\n",
       "      <td>1.000000</td>\n",
       "      <td>0.264794</td>\n",
       "      <td>0.261450</td>\n",
       "      <td>0.258139</td>\n",
       "      <td>0.083788</td>\n",
       "      <td>0.017866</td>\n",
       "      <td>-0.031145</td>\n",
       "    </tr>\n",
       "    <tr>\n",
       "      <th>dec</th>\n",
       "      <td>-0.030460</td>\n",
       "      <td>-0.182041</td>\n",
       "      <td>0.264794</td>\n",
       "      <td>1.000000</td>\n",
       "      <td>0.293113</td>\n",
       "      <td>0.299355</td>\n",
       "      <td>0.043465</td>\n",
       "      <td>0.039659</td>\n",
       "      <td>-0.044804</td>\n",
       "    </tr>\n",
       "    <tr>\n",
       "      <th>st_dist</th>\n",
       "      <td>-0.100928</td>\n",
       "      <td>0.047246</td>\n",
       "      <td>0.261450</td>\n",
       "      <td>0.293113</td>\n",
       "      <td>1.000000</td>\n",
       "      <td>0.541071</td>\n",
       "      <td>0.286462</td>\n",
       "      <td>0.118258</td>\n",
       "      <td>0.129496</td>\n",
       "    </tr>\n",
       "    <tr>\n",
       "      <th>st_optmag</th>\n",
       "      <td>-0.179191</td>\n",
       "      <td>-0.067319</td>\n",
       "      <td>0.258139</td>\n",
       "      <td>0.299355</td>\n",
       "      <td>0.541071</td>\n",
       "      <td>1.000000</td>\n",
       "      <td>-0.090965</td>\n",
       "      <td>-0.245845</td>\n",
       "      <td>-0.326428</td>\n",
       "    </tr>\n",
       "    <tr>\n",
       "      <th>st_teff</th>\n",
       "      <td>-0.024805</td>\n",
       "      <td>0.159597</td>\n",
       "      <td>0.083788</td>\n",
       "      <td>0.043465</td>\n",
       "      <td>0.286462</td>\n",
       "      <td>-0.090965</td>\n",
       "      <td>1.000000</td>\n",
       "      <td>0.645174</td>\n",
       "      <td>0.604293</td>\n",
       "    </tr>\n",
       "    <tr>\n",
       "      <th>st_mass</th>\n",
       "      <td>0.081636</td>\n",
       "      <td>0.232212</td>\n",
       "      <td>0.017866</td>\n",
       "      <td>0.039659</td>\n",
       "      <td>0.118258</td>\n",
       "      <td>-0.245845</td>\n",
       "      <td>0.645174</td>\n",
       "      <td>1.000000</td>\n",
       "      <td>0.828871</td>\n",
       "    </tr>\n",
       "    <tr>\n",
       "      <th>st_rad</th>\n",
       "      <td>0.118212</td>\n",
       "      <td>0.222583</td>\n",
       "      <td>-0.031145</td>\n",
       "      <td>-0.044804</td>\n",
       "      <td>0.129496</td>\n",
       "      <td>-0.326428</td>\n",
       "      <td>0.604293</td>\n",
       "      <td>0.828871</td>\n",
       "      <td>1.000000</td>\n",
       "    </tr>\n",
       "  </tbody>\n",
       "</table>\n",
       "</div>"
      ],
      "text/plain": [
       "           pl_orbper   pl_radj        ra       dec   st_dist  st_optmag  \\\n",
       "pl_orbper   1.000000  0.078468 -0.051660 -0.030460 -0.100928  -0.179191   \n",
       "pl_radj     0.078468  1.000000 -0.071123 -0.182041  0.047246  -0.067319   \n",
       "ra         -0.051660 -0.071123  1.000000  0.264794  0.261450   0.258139   \n",
       "dec        -0.030460 -0.182041  0.264794  1.000000  0.293113   0.299355   \n",
       "st_dist    -0.100928  0.047246  0.261450  0.293113  1.000000   0.541071   \n",
       "st_optmag  -0.179191 -0.067319  0.258139  0.299355  0.541071   1.000000   \n",
       "st_teff    -0.024805  0.159597  0.083788  0.043465  0.286462  -0.090965   \n",
       "st_mass     0.081636  0.232212  0.017866  0.039659  0.118258  -0.245845   \n",
       "st_rad      0.118212  0.222583 -0.031145 -0.044804  0.129496  -0.326428   \n",
       "\n",
       "            st_teff   st_mass    st_rad  \n",
       "pl_orbper -0.024805  0.081636  0.118212  \n",
       "pl_radj    0.159597  0.232212  0.222583  \n",
       "ra         0.083788  0.017866 -0.031145  \n",
       "dec        0.043465  0.039659 -0.044804  \n",
       "st_dist    0.286462  0.118258  0.129496  \n",
       "st_optmag -0.090965 -0.245845 -0.326428  \n",
       "st_teff    1.000000  0.645174  0.604293  \n",
       "st_mass    0.645174  1.000000  0.828871  \n",
       "st_rad     0.604293  0.828871  1.000000  "
      ]
     },
     "execution_count": 45,
     "metadata": {},
     "output_type": "execute_result"
    }
   ],
   "source": [
    "df[[col for col in columnes.keys()]].corr(method='kendall')"
   ]
  },
  {
   "cell_type": "markdown",
   "metadata": {},
   "source": [
    "Наибольшее значение коэффициента корреляции Кендалла 0.83 наблюдается между признаками __st_rad__ (Радиус звезды) и __st_mass__ (Звездная масса)."
   ]
  },
  {
   "cell_type": "markdown",
   "metadata": {},
   "source": [
    "### Проведем дисперсионный анализ"
   ]
  },
  {
   "cell_type": "markdown",
   "metadata": {},
   "source": [
    "Проверим гипотезу о различиях в признаках, относящихся к свойствам звезд: st_dist, st_optmag, st_teff, st_mass, st_rad - в зависимости от того, чем были измерены параметры звезд: значения из st_optband."
   ]
  },
  {
   "cell_type": "code",
   "execution_count": 46,
   "metadata": {},
   "outputs": [],
   "source": [
    "params = ['st_dist', 'st_optmag', 'st_teff', 'st_mass', 'st_rad']"
   ]
  },
  {
   "cell_type": "markdown",
   "metadata": {},
   "source": [
    "Уберем наблюдения с пустыми значениями из датафрейма:"
   ]
  },
  {
   "cell_type": "code",
   "execution_count": 48,
   "metadata": {},
   "outputs": [
    {
     "data": {
      "text/plain": [
       "(2855, 82)"
      ]
     },
     "execution_count": 48,
     "metadata": {},
     "output_type": "execute_result"
    }
   ],
   "source": [
    "df4 = df3[df3[\"st_rad\"].notnull()]\n",
    "df4 = df4[df4[\"st_teff\"].notnull()]\n",
    "df4 = df4[df4[\"st_mass\"].notnull()]\n",
    "df4.shape"
   ]
  },
  {
   "cell_type": "markdown",
   "metadata": {},
   "source": [
    "Всего у нас два метода (или аппарата), которыми были измерены звезды:"
   ]
  },
  {
   "cell_type": "code",
   "execution_count": 49,
   "metadata": {},
   "outputs": [
    {
     "data": {
      "text/plain": [
       "Kepler-band    1514\n",
       "V (Johnson)    1341\n",
       "Name: st_optband, dtype: int64"
      ]
     },
     "execution_count": 49,
     "metadata": {},
     "output_type": "execute_result"
    }
   ],
   "source": [
    "df4[\"st_optband\"].value_counts()"
   ]
  },
  {
   "cell_type": "markdown",
   "metadata": {},
   "source": [
    "Разобъем данные на две группы:"
   ]
  },
  {
   "cell_type": "code",
   "execution_count": 50,
   "metadata": {},
   "outputs": [
    {
     "data": {
      "text/plain": [
       "(1514, 1341)"
      ]
     },
     "execution_count": 50,
     "metadata": {},
     "output_type": "execute_result"
    }
   ],
   "source": [
    "y1 = df4.loc[df4['st_optband'] == 'Kepler-band', params]\n",
    "y2 = df4.loc[df4['st_optband'] == 'V (Johnson)', params]\n",
    "\n",
    "n1 = y1.shape[0]\n",
    "n2 = y2.shape[0]\n",
    "\n",
    "n1, n2"
   ]
  },
  {
   "cell_type": "markdown",
   "metadata": {},
   "source": [
    "Статистики по каждой группе:"
   ]
  },
  {
   "cell_type": "code",
   "execution_count": 51,
   "metadata": {},
   "outputs": [
    {
     "data": {
      "text/html": [
       "<div>\n",
       "<style scoped>\n",
       "    .dataframe tbody tr th:only-of-type {\n",
       "        vertical-align: middle;\n",
       "    }\n",
       "\n",
       "    .dataframe tbody tr th {\n",
       "        vertical-align: top;\n",
       "    }\n",
       "\n",
       "    .dataframe thead th {\n",
       "        text-align: right;\n",
       "    }\n",
       "</style>\n",
       "<table border=\"1\" class=\"dataframe\">\n",
       "  <thead>\n",
       "    <tr style=\"text-align: right;\">\n",
       "      <th></th>\n",
       "      <th>st_dist</th>\n",
       "      <th>st_optmag</th>\n",
       "      <th>st_teff</th>\n",
       "      <th>st_mass</th>\n",
       "      <th>st_rad</th>\n",
       "    </tr>\n",
       "  </thead>\n",
       "  <tbody>\n",
       "    <tr>\n",
       "      <th>count</th>\n",
       "      <td>1514.000000</td>\n",
       "      <td>1514.000000</td>\n",
       "      <td>1514.000000</td>\n",
       "      <td>1514.000000</td>\n",
       "      <td>1514.000000</td>\n",
       "    </tr>\n",
       "    <tr>\n",
       "      <th>mean</th>\n",
       "      <td>774.010376</td>\n",
       "      <td>14.341849</td>\n",
       "      <td>5524.160145</td>\n",
       "      <td>0.964815</td>\n",
       "      <td>1.013038</td>\n",
       "    </tr>\n",
       "    <tr>\n",
       "      <th>std</th>\n",
       "      <td>387.052264</td>\n",
       "      <td>1.230339</td>\n",
       "      <td>658.644008</td>\n",
       "      <td>0.207006</td>\n",
       "      <td>0.387501</td>\n",
       "    </tr>\n",
       "    <tr>\n",
       "      <th>min</th>\n",
       "      <td>37.810000</td>\n",
       "      <td>8.769000</td>\n",
       "      <td>3157.000000</td>\n",
       "      <td>0.180000</td>\n",
       "      <td>0.210000</td>\n",
       "    </tr>\n",
       "    <tr>\n",
       "      <th>25%</th>\n",
       "      <td>481.100000</td>\n",
       "      <td>13.654250</td>\n",
       "      <td>5214.000000</td>\n",
       "      <td>0.850000</td>\n",
       "      <td>0.800000</td>\n",
       "    </tr>\n",
       "    <tr>\n",
       "      <th>50%</th>\n",
       "      <td>751.000000</td>\n",
       "      <td>14.604000</td>\n",
       "      <td>5663.500000</td>\n",
       "      <td>0.970000</td>\n",
       "      <td>0.950000</td>\n",
       "    </tr>\n",
       "    <tr>\n",
       "      <th>75%</th>\n",
       "      <td>1027.000000</td>\n",
       "      <td>15.264750</td>\n",
       "      <td>5954.000000</td>\n",
       "      <td>1.080000</td>\n",
       "      <td>1.140000</td>\n",
       "    </tr>\n",
       "    <tr>\n",
       "      <th>max</th>\n",
       "      <td>2700.000000</td>\n",
       "      <td>17.475000</td>\n",
       "      <td>8480.000000</td>\n",
       "      <td>1.720000</td>\n",
       "      <td>6.300000</td>\n",
       "    </tr>\n",
       "  </tbody>\n",
       "</table>\n",
       "</div>"
      ],
      "text/plain": [
       "           st_dist    st_optmag      st_teff      st_mass       st_rad\n",
       "count  1514.000000  1514.000000  1514.000000  1514.000000  1514.000000\n",
       "mean    774.010376    14.341849  5524.160145     0.964815     1.013038\n",
       "std     387.052264     1.230339   658.644008     0.207006     0.387501\n",
       "min      37.810000     8.769000  3157.000000     0.180000     0.210000\n",
       "25%     481.100000    13.654250  5214.000000     0.850000     0.800000\n",
       "50%     751.000000    14.604000  5663.500000     0.970000     0.950000\n",
       "75%    1027.000000    15.264750  5954.000000     1.080000     1.140000\n",
       "max    2700.000000    17.475000  8480.000000     1.720000     6.300000"
      ]
     },
     "execution_count": 51,
     "metadata": {},
     "output_type": "execute_result"
    }
   ],
   "source": [
    "y1.describe()"
   ]
  },
  {
   "cell_type": "code",
   "execution_count": 52,
   "metadata": {},
   "outputs": [
    {
     "data": {
      "text/html": [
       "<div>\n",
       "<style scoped>\n",
       "    .dataframe tbody tr th:only-of-type {\n",
       "        vertical-align: middle;\n",
       "    }\n",
       "\n",
       "    .dataframe tbody tr th {\n",
       "        vertical-align: top;\n",
       "    }\n",
       "\n",
       "    .dataframe thead th {\n",
       "        text-align: right;\n",
       "    }\n",
       "</style>\n",
       "<table border=\"1\" class=\"dataframe\">\n",
       "  <thead>\n",
       "    <tr style=\"text-align: right;\">\n",
       "      <th></th>\n",
       "      <th>st_dist</th>\n",
       "      <th>st_optmag</th>\n",
       "      <th>st_teff</th>\n",
       "      <th>st_mass</th>\n",
       "      <th>st_rad</th>\n",
       "    </tr>\n",
       "  </thead>\n",
       "  <tbody>\n",
       "    <tr>\n",
       "      <th>count</th>\n",
       "      <td>1341.000000</td>\n",
       "      <td>1341.000000</td>\n",
       "      <td>1341.000000</td>\n",
       "      <td>1341.000000</td>\n",
       "      <td>1341.000000</td>\n",
       "    </tr>\n",
       "    <tr>\n",
       "      <th>mean</th>\n",
       "      <td>230.971320</td>\n",
       "      <td>10.555851</td>\n",
       "      <td>5327.274996</td>\n",
       "      <td>1.103870</td>\n",
       "      <td>2.482252</td>\n",
       "    </tr>\n",
       "    <tr>\n",
       "      <th>std</th>\n",
       "      <td>280.281254</td>\n",
       "      <td>2.999740</td>\n",
       "      <td>1397.363605</td>\n",
       "      <td>0.954014</td>\n",
       "      <td>6.048258</td>\n",
       "    </tr>\n",
       "    <tr>\n",
       "      <th>min</th>\n",
       "      <td>1.300000</td>\n",
       "      <td>0.850000</td>\n",
       "      <td>2559.000000</td>\n",
       "      <td>0.080000</td>\n",
       "      <td>0.110000</td>\n",
       "    </tr>\n",
       "    <tr>\n",
       "      <th>25%</th>\n",
       "      <td>50.420000</td>\n",
       "      <td>8.050000</td>\n",
       "      <td>4846.000000</td>\n",
       "      <td>0.800000</td>\n",
       "      <td>0.800000</td>\n",
       "    </tr>\n",
       "    <tr>\n",
       "      <th>50%</th>\n",
       "      <td>132.680000</td>\n",
       "      <td>10.970000</td>\n",
       "      <td>5491.000000</td>\n",
       "      <td>1.010000</td>\n",
       "      <td>1.070000</td>\n",
       "    </tr>\n",
       "    <tr>\n",
       "      <th>75%</th>\n",
       "      <td>310.140000</td>\n",
       "      <td>12.766000</td>\n",
       "      <td>5870.000000</td>\n",
       "      <td>1.230000</td>\n",
       "      <td>1.530000</td>\n",
       "    </tr>\n",
       "    <tr>\n",
       "      <th>max</th>\n",
       "      <td>3200.000000</td>\n",
       "      <td>18.800000</td>\n",
       "      <td>29300.000000</td>\n",
       "      <td>23.560000</td>\n",
       "      <td>71.230000</td>\n",
       "    </tr>\n",
       "  </tbody>\n",
       "</table>\n",
       "</div>"
      ],
      "text/plain": [
       "           st_dist    st_optmag       st_teff      st_mass       st_rad\n",
       "count  1341.000000  1341.000000   1341.000000  1341.000000  1341.000000\n",
       "mean    230.971320    10.555851   5327.274996     1.103870     2.482252\n",
       "std     280.281254     2.999740   1397.363605     0.954014     6.048258\n",
       "min       1.300000     0.850000   2559.000000     0.080000     0.110000\n",
       "25%      50.420000     8.050000   4846.000000     0.800000     0.800000\n",
       "50%     132.680000    10.970000   5491.000000     1.010000     1.070000\n",
       "75%     310.140000    12.766000   5870.000000     1.230000     1.530000\n",
       "max    3200.000000    18.800000  29300.000000    23.560000    71.230000"
      ]
     },
     "execution_count": 52,
     "metadata": {},
     "output_type": "execute_result"
    }
   ],
   "source": [
    "y2.describe()"
   ]
  },
  {
   "cell_type": "markdown",
   "metadata": {},
   "source": [
    "Видно, что сильней всего разнятся средние по st_dist и st_rad.\n",
    "\n",
    "Сохраним статистику общего массива и каждой группы в отдельности:"
   ]
  },
  {
   "cell_type": "code",
   "execution_count": 54,
   "metadata": {},
   "outputs": [
    {
     "data": {
      "text/plain": [
       "({'st_dist': 518.9436952714539,\n",
       "  'st_optmag': 12.56355726795098,\n",
       "  'st_teff': 5431.68274255692,\n",
       "  'st_mass': 1.0301295971978965,\n",
       "  'st_rad': 1.703131348511383},\n",
       " {'st_dist': 774.0103764861296,\n",
       "  'st_optmag': 14.341849405548217,\n",
       "  'st_teff': 5524.160145310436,\n",
       "  'st_mass': 0.9648150594451808,\n",
       "  'st_rad': 1.013038309114927},\n",
       " {'st_dist': 230.97131991051427,\n",
       "  'st_optmag': 10.555850857568965,\n",
       "  'st_teff': 5327.274996271439,\n",
       "  'st_mass': 1.1038702460850138,\n",
       "  'st_rad': 2.482252050708427})"
      ]
     },
     "execution_count": 54,
     "metadata": {},
     "output_type": "execute_result"
    }
   ],
   "source": [
    "y_mean = {}\n",
    "y1_mean = {}\n",
    "y2_mean = {}\n",
    "for param in params:\n",
    "    y_mean[param] = df4[param].mean()\n",
    "    y1_mean[param] = y1[param].mean()\n",
    "    y2_mean[param] = y2[param].mean()\n",
    "y_mean, y1_mean, y2_mean"
   ]
  },
  {
   "cell_type": "markdown",
   "metadata": {},
   "source": [
    "Найдём значения $S_b^2$ и $S_w^2$:"
   ]
  },
  {
   "cell_type": "code",
   "execution_count": 55,
   "metadata": {},
   "outputs": [
    {
     "data": {
      "text/plain": [
       "({'st_dist': 209705911.27506608,\n",
       "  'st_optmag': 10193.173736550787,\n",
       "  'st_teff': 27566044.816932857,\n",
       "  'st_mass': 13.750640409573379,\n",
       "  'st_rad': 1535.0357831593783},\n",
       " {'st_dist': 331928864.5352491,\n",
       "  'st_optmag': 14348.189047835978,\n",
       "  'st_teff': 3272875009.2718935,\n",
       "  'st_mass': 1284.4250116394633,\n",
       "  'st_rad': 49246.293022584934})"
      ]
     },
     "execution_count": 55,
     "metadata": {},
     "output_type": "execute_result"
    }
   ],
   "source": [
    "S2_b = {}\n",
    "S2_w = {}\n",
    "for param in params:\n",
    "    S2_b[param] = n1 * (y1_mean[param] - y_mean[param]) ** 2 + n2 * (y2_mean[param] - y_mean[param]) ** 2\n",
    "\n",
    "    S2_w[param] = ((np.array(y1[param]) - y1_mean[param]) ** 2).sum() + ((np.array(y2[param]) - y2_mean[param]) ** 2).sum()\n",
    "\n",
    "S2_b, S2_w"
   ]
  },
  {
   "cell_type": "markdown",
   "metadata": {},
   "source": [
    "Запишем оценки дисперсий:"
   ]
  },
  {
   "cell_type": "code",
   "execution_count": 56,
   "metadata": {},
   "outputs": [
    {
     "data": {
      "text/plain": [
       "({'st_dist': 104852955.63753304,\n",
       "  'st_optmag': 5096.5868682753935,\n",
       "  'st_teff': 13783022.408466429,\n",
       "  'st_mass': 6.875320204786689,\n",
       "  'st_rad': 767.5178915796891},\n",
       " {'st_dist': 116384.59485808173,\n",
       "  'st_optmag': 5.030921826029445,\n",
       "  'st_teff': 1147571.8826339038,\n",
       "  'st_mass': 0.45035940099560423,\n",
       "  'st_rad': 17.267283668508043})"
      ]
     },
     "execution_count": 56,
     "metadata": {},
     "output_type": "execute_result"
    }
   ],
   "source": [
    "k = 3\n",
    "n = n1 + n2\n",
    "\n",
    "k1 = k - 1\n",
    "k2 = n - k\n",
    "\n",
    "sigma2_b = {}\n",
    "sigma2_w = {}\n",
    "for param in params:\n",
    "    sigma2_b[param] = S2_b[param] / k1\n",
    "    sigma2_w[param] = S2_w[param] / k2\n",
    "\n",
    "sigma2_b, sigma2_w"
   ]
  },
  {
   "cell_type": "markdown",
   "metadata": {},
   "source": [
    "Итак, значение статистики $F$:"
   ]
  },
  {
   "cell_type": "code",
   "execution_count": 58,
   "metadata": {},
   "outputs": [
    {
     "data": {
      "text/plain": [
       "{'st_dist': 900.9178213438792,\n",
       " 'st_optmag': 1013.0522883313758,\n",
       " 'st_teff': 12.01059612652035,\n",
       " 'st_mass': 15.266296627954251,\n",
       " 'st_rad': 44.44925480546099}"
      ]
     },
     "execution_count": 58,
     "metadata": {},
     "output_type": "execute_result"
    }
   ],
   "source": [
    "f = {}\n",
    "for param in params:\n",
    "    f[param] = sigma2_b[param] / sigma2_w[param]\n",
    "f"
   ]
  },
  {
   "cell_type": "markdown",
   "metadata": {},
   "source": [
    "Зафиксируем уровень значимости $\\alpha = 0.05$. Для него найдём критическое значение $F_{crit}$:"
   ]
  },
  {
   "cell_type": "code",
   "execution_count": 59,
   "metadata": {},
   "outputs": [
    {
     "data": {
      "text/plain": [
       "2.9988811864645433"
      ]
     },
     "execution_count": 59,
     "metadata": {},
     "output_type": "execute_result"
    }
   ],
   "source": [
    "alpha = 0.05\n",
    "\n",
    "F_crit = stats.f.ppf(1 - alpha, k1, k2)\n",
    "F_crit"
   ]
  },
  {
   "cell_type": "markdown",
   "metadata": {},
   "source": [
    "Видим, что $F > F_{crit}$ для всех признаков, следовательно различие значений всех признаков для данных групп является статистически значимым."
   ]
  },
  {
   "cell_type": "markdown",
   "metadata": {},
   "source": [
    "### Построим модель логистической регрессии"
   ]
  },
  {
   "cell_type": "markdown",
   "metadata": {},
   "source": [
    "Попытаемся предсказать, каким аппаратом были определены параметры звезды __st_optband__ по признакам: st_dist, st_optmag, st_teff, st_mass, st_rad"
   ]
  },
  {
   "cell_type": "code",
   "execution_count": 62,
   "metadata": {},
   "outputs": [
    {
     "data": {
      "text/plain": [
       "(2855, 5)"
      ]
     },
     "execution_count": 62,
     "metadata": {},
     "output_type": "execute_result"
    }
   ],
   "source": [
    "target = \"st_optband\"\n",
    "\n",
    "y = df4[target]\n",
    "X = df4[params]\n",
    "X.shape"
   ]
  },
  {
   "cell_type": "markdown",
   "metadata": {},
   "source": [
    "Выполним разбиение данных на тренировочную и тестовую выборку:"
   ]
  },
  {
   "cell_type": "code",
   "execution_count": 64,
   "metadata": {},
   "outputs": [],
   "source": [
    "X_train, X_valid, y_train, y_valid = train_test_split(X, y, test_size=0.25, random_state=42)"
   ]
  },
  {
   "cell_type": "markdown",
   "metadata": {},
   "source": [
    "Строим модель:"
   ]
  },
  {
   "cell_type": "code",
   "execution_count": 65,
   "metadata": {},
   "outputs": [],
   "source": [
    "lr = LogisticRegression(solver=\"liblinear\")\n",
    "\n",
    "lr.fit(X_train, y_train)\n",
    "\n",
    "y_pred = lr.predict(X_valid)"
   ]
  },
  {
   "cell_type": "markdown",
   "metadata": {},
   "source": [
    "Для подсчёта правильных ответов будем использовать метрику accuracy (точность). Она равна отношению числа объектов, на которых целевой класс был угадан верно, к общему числу объектов."
   ]
  },
  {
   "cell_type": "code",
   "execution_count": 67,
   "metadata": {},
   "outputs": [
    {
     "data": {
      "text/plain": [
       "0.8739495798319328"
      ]
     },
     "execution_count": 67,
     "metadata": {},
     "output_type": "execute_result"
    }
   ],
   "source": [
    "accuracy_score(y_valid, y_pred)"
   ]
  },
  {
   "cell_type": "markdown",
   "metadata": {},
   "source": [
    "Также сделаем предсказание на тренировочном датасете и посчитаем точность на нём:"
   ]
  },
  {
   "cell_type": "code",
   "execution_count": 68,
   "metadata": {},
   "outputs": [
    {
     "data": {
      "text/plain": [
       "0.8538066324147594"
      ]
     },
     "execution_count": 68,
     "metadata": {},
     "output_type": "execute_result"
    }
   ],
   "source": [
    "y_pred_train = lr.predict(X_train)\n",
    "\n",
    "accuracy_score(y_train, y_pred_train)"
   ]
  },
  {
   "cell_type": "markdown",
   "metadata": {},
   "source": [
    "Как видно, построенная __модель логистической регрессии отработала достаточно хорошо__. Следовательно, __по полученным наблюдениям свойств звезд можно предсказывать аппарат, с помощью которого были сделаны наблюдения.__"
   ]
  }
 ],
 "metadata": {
  "kernelspec": {
   "display_name": "Python 3",
   "language": "python",
   "name": "python3"
  },
  "language_info": {
   "codemirror_mode": {
    "name": "ipython",
    "version": 3
   },
   "file_extension": ".py",
   "mimetype": "text/x-python",
   "name": "python",
   "nbconvert_exporter": "python",
   "pygments_lexer": "ipython3",
   "version": "3.7.3"
  }
 },
 "nbformat": 4,
 "nbformat_minor": 4
}
